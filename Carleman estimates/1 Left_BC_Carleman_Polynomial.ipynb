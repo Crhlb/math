{
 "cells": [
  {
   "cell_type": "code",
   "execution_count": 1,
   "metadata": {},
   "outputs": [],
   "source": [
    "import numpy as np\n",
    "import pandas as pd\n",
    "import scipy as sp\n",
    "from scipy.optimize import minimize"
   ]
  },
  {
   "cell_type": "markdown",
   "metadata": {},
   "source": [
    "## Problema principal"
   ]
  },
  {
   "cell_type": "markdown",
   "metadata": {},
   "source": [
    "Buscamos minimizar las cantidades $$K_1=(4b+c-4a)C_1$$ y $$K_2=(4b+c-4a)C_2$$ provenientes de la función\n",
    "$$K(\\tau)=K_1+K_2\\tau^{1/2}-\\tfrac{2}{3\\sqrt{3}}(\\tfrac{\\tau}{2}-1)^{3/2}.$$\n",
    "Para esto, establecemos el problema de minimización $(P)$ dado por\n",
    "$$\\min_{(a, b, c, C_1, C_2)\\in X}\\ K_1^2+K_2^2$$\n",
    "donde $X\\subset \\mathbb{R}^5$ es el espacio de restricciones del problema."
   ]
  },
  {
   "cell_type": "markdown",
   "metadata": {},
   "source": [
    "## Problema de optimización\n",
    "\n",
    "A continuación se define la función _objetivo_ del problema de optimización, seguido de las _constraints_ de dicho problema.\n",
    "\n",
    "*_Observación_*: por comodidad, en el código se consideró $C_1=A^{-1}, C_2=B^{-1}$ y $C_3=C^{1/2}$."
   ]
  },
  {
   "cell_type": "code",
   "execution_count": 2,
   "metadata": {},
   "outputs": [],
   "source": [
    "def objective(x):\n",
    "    a=x[0]\n",
    "    b=x[1]\n",
    "    c=x[2]\n",
    "    A=x[3]\n",
    "    B=x[4]\n",
    "    return ((4*b+c-4*a)**2)*(1/(A**2)+1/(B**2))\n",
    "def constraint1(x):\n",
    "    a=x[0]\n",
    "    b=x[1]\n",
    "    c=x[2]\n",
    "    A=x[3]\n",
    "    B=x[4]\n",
    "    return 14*a*(b-2*a)**4-1.5*(b**2)*(A**2)-1.5*(b+c-a)*a*b*(A**2)-1.5*a*(b**2)*(B**2)-0.75*(b+c-a)*(A**4)-0.125*b*(A**2)*(B**2)\n",
    "def constraint2(x):\n",
    "    a=x[0]\n",
    "    b=x[1]\n",
    "    c=x[2]\n",
    "    A=x[3]\n",
    "    B=x[4]\n",
    "    return 6*a*(b-2*a)**2-1.5*b*(A**2)-0.75*a*(B**2)\n",
    "def constraint3(x):\n",
    "    a=x[0]\n",
    "    b=x[1]\n",
    "    c=x[2]\n",
    "    A=x[3]\n",
    "    B=x[4]\n",
    "    return 4*a*(b-2*a)**3-0.25*(b+c-a)*(A**2)-3*(a**2)/((b-2*a)*C)-2*(b-2*a)*(B**2)\n",
    "def constraint4(x):\n",
    "    return x[1]-2*x[0]"
   ]
  },
  {
   "cell_type": "markdown",
   "metadata": {},
   "source": [
    "Se da un punto inicial $x_0$ y se definen las restricciones del problema."
   ]
  },
  {
   "cell_type": "code",
   "execution_count": 3,
   "metadata": {},
   "outputs": [],
   "source": [
    "x0=[1, 8, 0.5, 3, 3]\n",
    "\n",
    "#restricciones\n",
    "con1={'type':'ineq', 'fun': constraint1}\n",
    "con2={'type':'ineq', 'fun': constraint2}\n",
    "con3={'type':'ineq', 'fun': constraint3}\n",
    "con4={'type':'ineq', 'fun': constraint4}\n",
    "cons=[con1, con2, con3, con4]"
   ]
  },
  {
   "cell_type": "markdown",
   "metadata": {},
   "source": [
    "### Resolución\n",
    "\n",
    "Fijamos $C_3$ suficientemente grande para resolver el problema. Debido a la libertad de las variables, resolvemos el problema $(P)$ a medida que iteramos sobre las cotas inferiores de $C_1$ y $C_2$. Por la naturaleza del problema original, podemos fijar cotas inferiores para $a, b$ y $c$."
   ]
  },
  {
   "cell_type": "code",
   "execution_count": 4,
   "metadata": {},
   "outputs": [
    {
     "name": "stdout",
     "output_type": "stream",
     "text": [
      "---------------------------- Solución ----------------------------\n",
      "val(P)= 61.50134137108302\n",
      "Solución del problema: a=13.425972572259491, b=70.29857414312075, c=0.010000000000002254, C1=1/33.19078126024049, C2=1/59.70426065162907\n",
      "El valor de K1 es  6.854325136238043\n",
      "El valor de K2 es  3.8104551300098466\n"
     ]
    }
   ],
   "source": [
    "C=10000000 # 10^7\n",
    "lista=np.linspace(1, 60, 400).tolist()\n",
    "val_p_min=100\n",
    "sol_p_min=[10, 10, 10, 10, 10]\n",
    "\n",
    "for j in lista:\n",
    "    b1=(1, j)\n",
    "    b=(0.01, None)\n",
    "    # Cotas de las variables\n",
    "    bnds=(b, b, b, b1, b1)\n",
    "    # No definimos tipo de solver\n",
    "    sol=minimize(objective, x0, bounds=bnds, constraints=cons)\n",
    "    # Nos aseguramos de que, en efecto, se satisfagan las restricciones\n",
    "    # Guardamos la mínima solución\n",
    "    if sol.fun<val_p_min and constraint1(sol.x)>0 and constraint2(sol.x)>0 and constraint3(sol.x)>0 and constraint4(sol.x)>0:\n",
    "        val_p_min=sol.fun\n",
    "        sol_p_min=sol.x\n",
    "        \n",
    "print(\"---------------------------- Solución ----------------------------\")\n",
    "print(\"val(P)=\", val_p_min)\n",
    "print(\"Solución del problema: a=%s, b=%s, c=%s, C1=1/%s, C2=1/%s\" %tuple(sol_p_min))\n",
    "print(\"El valor de K1 es \", (4*sol_p_min[1]+sol_p_min[2]-4*sol_p_min[0])*(1/sol_p_min[3]))\n",
    "print(\"El valor de K2 es \", (4*sol_p_min[1]+sol_p_min[2]-4*sol_p_min[0])*(1/sol_p_min[4]))"
   ]
  },
  {
   "cell_type": "markdown",
   "metadata": {},
   "source": [
    "### Comportamiento de $val(P)$"
   ]
  },
  {
   "cell_type": "markdown",
   "metadata": {},
   "source": [
    "Al disminuir la cota inferior de $C_1$ y $C_2$ vemos que $val(P)$ tiene chance de decrecer, debido a que la función objetivo es decreciente respecto a dichos parámetros. En efecto, en la siguiente iteración, fijando como cota inferior $10^3$ podemos apreciar tal comportamiento."
   ]
  },
  {
   "cell_type": "code",
   "execution_count": 5,
   "metadata": {},
   "outputs": [
    {
     "name": "stdout",
     "output_type": "stream",
     "text": [
      "---------------------------- Nueva iteración ----------------------------\n",
      "val(P)= 61.49751090927946\n",
      "Solución del problema: a=46.06399395578453, b=241.2205112340178, c=0.010000000000000037, C1=1/113.89236965795737, C2=1/204.87755102040816\n",
      "El valor de K1 es  6.8541560023498205\n",
      "El valor de K2 es  3.8102567373775997\n",
      "---------------------------- Nueva iteración ----------------------------\n",
      "val(P)= 61.497367672594265\n",
      "Solución del problema: a=50.65466916640619, b=265.2303728995835, c=0.01, C1=1/125.22509260119115, C2=1/225.26530612244898\n",
      "El valor de K1 es  6.854159953917613\n",
      "El valor de K2 es  3.810230832732628\n",
      "---------------------------- Nueva iteración ----------------------------\n",
      "val(P)= 61.49682018009266\n",
      "Solución del problema: a=82.69816194099405, b=433.1943855664624, c=0.01, C1=1/204.54359920251215, C2=1/367.9795918311265\n",
      "El valor de K1 es  6.854259434018283\n",
      "El valor de K2 es  3.8099800250479054\n",
      "---------------------------- Nueva iteración ----------------------------\n",
      "val(P)= 61.49684005589058\n",
      "Solución del problema: a=80.47186640567432, b=421.46803969069543, c=0.01, C1=1/199.00394571502912, C2=1/357.9800252132832\n",
      "El valor de K1 es  6.854108787839342\n",
      "El valor de K2 es  3.8102536372732567\n",
      "---------------------------- Nueva iteración ----------------------------\n",
      "val(P)= 61.49897214965772\n",
      "Solución del problema: a=23.897253705983417, b=125.12788151676806, c=0.01, C1=1/59.07752210204511, C2=1/106.27404995612837\n",
      "El valor de K1 es  6.8542568617501445\n",
      "El valor de K2 es  3.8102670540014354\n",
      "---------------------------- Nueva iteración ----------------------------\n",
      "val(P)= 61.49646589109586\n",
      "Solución del problema: a=136.82355005644234, b=716.3413229063093, c=0.01000000001192248, C1=1/338.20529050015244, C2=1/608.3750360858993\n",
      "El valor de K1 es  6.85406513887291\n",
      "El valor de K2 es  3.810283055520016\n",
      "---------------------------- Nueva iteración ----------------------------\n",
      "val(P)= 61.497181266402414\n",
      "Solución del problema: a=141.67423612462906, b=742.7286993603179, c=0.01, C1=1/350.42371872729024, C2=1/633.0202599194332\n",
      "El valor de K1 es  6.860916440458743\n",
      "El valor de K2 es  3.7980267065208158\n",
      "---------------------------- Nueva iteración ----------------------------\n",
      "val(P)= 61.4963669052559\n",
      "Solución del problema: a=169.78117109641383, b=889.2662788897619, c=0.01, C1=1/419.8839116299354, C2=1/755.3469387755102\n",
      "El valor de K1 es  6.85415742651715\n",
      "El valor de K2 es  3.8101040507807262\n",
      "---------------------------- Nueva iteración ----------------------------\n",
      "val(P)= 61.49726202302106\n",
      "Solución del problema: a=63.303937756321524, b=331.79160117683654, c=0.010000000392505667, C1=1/156.6130835139091, C2=1/282.29743475089157\n",
      "El valor de K1 es  6.857413375601356\n",
      "El valor de K2 es  3.8043585292588658\n",
      "---------------------------- Nueva iteración ----------------------------\n",
      "val(P)= 61.496765606578634\n",
      "Solución del problema: a=87.35691016432044, b=457.4073054196312, c=0.010000000000000068, C1=1/215.95855645297186, C2=1/388.48902544893843\n",
      "El valor de K1 es  6.854146486868098\n",
      "El valor de K2 es  3.8101760514617076\n",
      "---------------------------- Nueva iteración ----------------------------\n",
      "val(P)= 61.49642683914503\n",
      "Solución del problema: a=147.48830615818363, b=772.2677965607568, c=0.01, C1=1/364.6162925038766, C2=1/655.911755241357\n",
      "El valor de K1 es  6.854131351203189\n",
      "El valor de K2 es  3.810158823408622\n",
      "---------------------------- Nueva iteración ----------------------------\n",
      "val(P)= 61.49647266514391\n",
      "Solución del problema: a=170.25126073716285, b=892.79400149011, c=0.01, C1=1/421.6717622550201, C2=1/758.5340913310143\n",
      "El valor de K1 es  6.854101274307895\n",
      "El valor de K2 es  3.8102189420917556\n",
      "---------------------------- Nueva iteración ----------------------------\n",
      "val(P)= 61.4968215771497\n",
      "Solución del problema: a=87.40597304717308, b=458.1304578188506, c=0.01, C1=1/216.36222303478553, C2=1/389.13614722741505\n",
      "El valor de K1 es  6.853820959531814\n",
      "El valor de K2 es  3.8107689292099707\n"
     ]
    }
   ],
   "source": [
    "lista=np.linspace(1, 1000).tolist()\n",
    "for j in lista:\n",
    "    b1=(1, j)\n",
    "    b=(0.01, None)\n",
    "    # Cotas de las variables\n",
    "    bnds=(b, b, b, b1, b1)\n",
    "    # No definimos tipo de solver\n",
    "    sol=minimize(objective, x0, bounds=bnds, constraints=cons)\n",
    "    # Nos aseguramos de que, en efecto, se satisfagan las restricciones\n",
    "    if constraint1(sol.x)>0 and constraint2(sol.x)>0 and constraint3(sol.x)>0 and constraint4(sol.x)>0:\n",
    "        print(\"---------------------------- Nueva iteración ----------------------------\")\n",
    "        print(\"val(P)=\", sol.fun)\n",
    "        print(\"Solución del problema: a=%s, b=%s, c=%s, C1=1/%s, C2=1/%s\" %tuple(sol.x))\n",
    "        print(\"El valor de K1 es \", (4*sol.x[1]+sol.x[2]-4*sol.x[0])*(1/sol.x[3]))\n",
    "        print(\"El valor de K2 es \", (4*sol.x[1]+sol.x[2]-4*sol.x[0])*(1/sol.x[4]))"
   ]
  },
  {
   "cell_type": "markdown",
   "metadata": {},
   "source": [
    "## Conclusiones"
   ]
  },
  {
   "cell_type": "markdown",
   "metadata": {},
   "source": [
    "Para $C_1, C_2\\geq 1/60$, la elección aproximada de parámetros a tres decimales\n",
    "$$a=13.426, b=70.3, c=0.01, C_1=1/33.191, C_2=1/59.704$$\n",
    "nos entrega $$val(P_{aprox})\\thickapprox 61.5039,$$\n",
    "que es mayor a $val(P)$ y difiere en $2.6\\cdot 10^{-3}$. A partir de ello, en nuestro problema principal se obtiene $\\eta\\geq 39.04$.\n",
    "\n",
    "Se conjetura que $val(P)>61.49$ (en base a una cota inferior para $C_1, C_2$ de $10^{-3}$). Al disminuir la cota inferior de las variables $C_1$ y $C_2$, las mejoras obtenidas en la cota inferior del parámetro $\\eta$ son del orden de $10^{-3}$, lo cual consideramos no significativo. Considerar además que el solver puede no dar buenos resultados con números de orden menor.\n",
    "\n",
    "Asimismo, al iterar sobre distintos valores de cotas inferiores (sobre los parámetros del polinomio en particular) se ve que $K_1$ y $K_2$ decrecen, pero no de manera significativa, manteniéndose acotados inferiormente por $6.85$ y $3.81$ respectivamente.\n",
    "\n",
    "Por último, mencionar que el problema es altamente sensible a la condición inicial $x_0$ asignada."
   ]
  }
 ],
 "metadata": {
  "kernelspec": {
   "display_name": "Python 3",
   "language": "python",
   "name": "python3"
  },
  "language_info": {
   "codemirror_mode": {
    "name": "ipython",
    "version": 3
   },
   "file_extension": ".py",
   "mimetype": "text/x-python",
   "name": "python",
   "nbconvert_exporter": "python",
   "pygments_lexer": "ipython3",
   "version": "3.7.6"
  }
 },
 "nbformat": 4,
 "nbformat_minor": 4
}
