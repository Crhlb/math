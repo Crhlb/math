{
 "cells": [
  {
   "cell_type": "code",
   "execution_count": 4,
   "metadata": {},
   "outputs": [],
   "source": [
    "import numpy as np\n",
    "import pandas as pd\n",
    "import scipy as sp\n",
    "from scipy.optimize import minimize"
   ]
  },
  {
   "cell_type": "markdown",
   "metadata": {},
   "source": [
    "## Problema principal"
   ]
  },
  {
   "cell_type": "markdown",
   "metadata": {},
   "source": [
    "Buscamos minimizar las cantidades $$K_1=(4b+c-4a)C_1$$ y $$K_2=(4b+c-4a)C_2$$ provenientes de la función\n",
    "$$K(\\tau)=K_1+K_2\\tau^{1/2}-\\tfrac{2}{3\\sqrt{3}}(\\tau-1)^{3/2}.$$\n",
    "Para esto, establecemos el problema de minimización $(P)$ dado por\n",
    "$$\\min_{(a, b, c, C_1, C_2)\\in X}\\ K_1^2+K_2^2$$\n",
    "donde $X\\subset \\mathbb{R}^5$ es el espacio de restricciones del problema."
   ]
  },
  {
   "cell_type": "markdown",
   "metadata": {},
   "source": [
    "## Problema de optimización\n",
    "\n",
    "A continuación se define la función _objetivo_ del problema de optimización, seguido de las _constraints_ de dicho problema.\n",
    "\n",
    "*_Observación_*: por comodidad, en el código se consideró $C_1=A^{-1}, C_2=B^{-1}$ y $C_3=C^{1/2}$."
   ]
  },
  {
   "cell_type": "code",
   "execution_count": 5,
   "metadata": {},
   "outputs": [],
   "source": [
    "def objective(x):\n",
    "    a=x[0]\n",
    "    b=x[1]\n",
    "    c=x[2]\n",
    "    A=x[3]\n",
    "    B=x[4]\n",
    "    return ((4*b+c-4*a)**2)*(1/(A**2)+1/(B**2))\n",
    "def constraint1(x):\n",
    "    a=x[0]\n",
    "    b=x[1]\n",
    "    c=x[2]\n",
    "    A=x[3]\n",
    "    B=x[4]\n",
    "    return 14*a*(b-2*a)**4-1.5*(b**3)*(A**2)-1.5*(b+c-a)*a*b*(A**2)-1.5*a*(b**2)*(B**2)-0.75*(b+c-a)*(A**4)-0.125*b*(A**2)*(B**2)\n",
    "def constraint2(x):\n",
    "    a=x[0]\n",
    "    b=x[1]\n",
    "    c=x[2]\n",
    "    A=x[3]\n",
    "    B=x[4]\n",
    "    return 6*a*(b-2*a)**2-1.5*b*(A**2)-0.75*a*(B**2)\n",
    "def constraint3(x):\n",
    "    a=x[0]\n",
    "    b=x[1]\n",
    "    c=x[2]\n",
    "    A=x[3]\n",
    "    B=x[4]\n",
    "    return 4*(b-2*a)**3-0.25*(b+c-a)*(A**2)-3*(a**2)/((b-2*a)*C)-2*(b-2*a)*(B**2)\n",
    "def constraint4(x):\n",
    "    return x[1]-2*x[0]"
   ]
  },
  {
   "cell_type": "markdown",
   "metadata": {},
   "source": [
    "Se da un punto inicial $x_0$ y se definen las restricciones del problema."
   ]
  },
  {
   "cell_type": "code",
   "execution_count": 6,
   "metadata": {},
   "outputs": [],
   "source": [
    "x0=[1, 8, 0.5, 3, 3]\n",
    "\n",
    "#restricciones\n",
    "con1={'type':'ineq', 'fun': constraint1}\n",
    "con2={'type':'ineq', 'fun': constraint2}\n",
    "con3={'type':'ineq', 'fun': constraint3}\n",
    "con4={'type':'ineq', 'fun': constraint4}\n",
    "cons=[con1, con2, con3, con4]"
   ]
  },
  {
   "cell_type": "markdown",
   "metadata": {},
   "source": [
    "### Resolución\n",
    "\n",
    "Fijamos $C_3$ suficientemente grande para resolver el problema. Debido a la libertad de las variables, resolvemos el problema $(P)$ a medida que iteramos sobre las cotas inferiores de $C_1$ y $C_2$. Por la naturaleza del problema original, podemos fijar cotas inferiores para $a, b$ y $c$."
   ]
  },
  {
   "cell_type": "code",
   "execution_count": 7,
   "metadata": {},
   "outputs": [
    {
     "name": "stdout",
     "output_type": "stream",
     "text": [
      "---------------------------- Solución ----------------------------\n",
      "val(P)= 71.22234490163238\n",
      "Solución del problema: a=10.392314734393258, b=90.68876636523513, c=0.01, C1=1/43.30119620959022, C2=1/79.80200501253132\n",
      "El valor de K1 es  7.417712087414111\n",
      "El valor de K2 es  4.024908979078033\n"
     ]
    }
   ],
   "source": [
    "C=10000000 # 10^7\n",
    "lista=np.linspace(1, 80, 400).tolist()\n",
    "val_p_min=100\n",
    "sol_p_min=[10, 10, 10, 10, 10]\n",
    "\n",
    "for j in lista:\n",
    "    b1=(1, j)\n",
    "    b=(0.01, None)\n",
    "    # Cotas de las variables\n",
    "    bnds=(b, b, b, b1, b1)\n",
    "    # No definimos tipo de solver\n",
    "    sol=minimize(objective, x0, bounds=bnds, constraints=cons)\n",
    "    # Nos aseguramos de que, en efecto, se satisfagan las restricciones\n",
    "    # Guardamos la mínima solución\n",
    "    if sol.fun<val_p_min and constraint1(sol.x)>0 and constraint2(sol.x)>0 and constraint3(sol.x)>0 and constraint4(sol.x)>0:\n",
    "        val_p_min=sol.fun\n",
    "        sol_p_min=sol.x\n",
    "        \n",
    "print(\"---------------------------- Solución ----------------------------\")\n",
    "print(\"val(P)=\", val_p_min)\n",
    "print(\"Solución del problema: a=%s, b=%s, c=%s, C1=1/%s, C2=1/%s\" %tuple(sol_p_min))\n",
    "print(\"El valor de K1 es \", (4*sol_p_min[1]+sol_p_min[2]-4*sol_p_min[0])*(1/sol_p_min[3]))\n",
    "print(\"El valor de K2 es \", (4*sol_p_min[1]+sol_p_min[2]-4*sol_p_min[0])*(1/sol_p_min[4]))"
   ]
  },
  {
   "cell_type": "code",
   "execution_count": 13,
   "metadata": {},
   "outputs": [
    {
     "name": "stdout",
     "output_type": "stream",
     "text": [
      "71.22234490163238\n",
      "0.0004653334617614746\n",
      "1.4260876923799515e-09\n",
      "438378.02573545603\n"
     ]
    }
   ],
   "source": [
    "print(objective(sol_p_min))\n",
    "print(constraint1(sol_p_min))\n",
    "print(constraint2(sol_p_min))\n",
    "print(constraint3(sol_p_min))"
   ]
  },
  {
   "cell_type": "markdown",
   "metadata": {},
   "source": [
    "### Comportamiento de $val(P)$"
   ]
  },
  {
   "cell_type": "markdown",
   "metadata": {},
   "source": [
    "Al disminuir la cota inferior de $C_1$ y $C_2$ vemos que $val(P)$ tiene chance de decrecer, debido a que la función objetivo es decreciente respecto a dichos parámetros. En efecto, en la siguiente iteración, fijando como cota inferior $10^3$ podemos apreciar tal comportamiento, y a su vez, obtener la misma conclusión tanto para $K_1$ como para $K_2$."
   ]
  },
  {
   "cell_type": "code",
   "execution_count": 5,
   "metadata": {},
   "outputs": [
    {
     "name": "stdout",
     "output_type": "stream",
     "text": [
      "---------------------------- Nueva iteración ----------------------------\n",
      "val(P)= 71.23647264814481\n",
      "El valor de K1 es  7.418274734235644\n",
      "El valor de K2 es  4.025626984153636\n",
      "---------------------------- Nueva iteración ----------------------------\n",
      "val(P)= 71.22705528403628\n",
      "El valor de K1 es  7.417941486206812\n",
      "El valor de K2 es  4.025071352317642\n",
      "---------------------------- Nueva iteración ----------------------------\n",
      "val(P)= 71.2238126268895\n",
      "El valor de K1 es  7.417769746508723\n",
      "El valor de K2 es  4.024985045272767\n",
      "---------------------------- Nueva iteración ----------------------------\n",
      "val(P)= 71.2211822938178\n",
      "El valor de K1 es  7.4176650623190605\n",
      "El valor de K2 es  4.024851216761801\n",
      "---------------------------- Nueva iteración ----------------------------\n",
      "val(P)= 71.22259753929497\n",
      "El valor de K1 es  7.4177585492182265\n",
      "El valor de K2 es  4.024854735862509\n",
      "---------------------------- Nueva iteración ----------------------------\n",
      "val(P)= 71.22067511014481\n",
      "El valor de K1 es  7.417677195089185\n",
      "El valor de K2 es  4.024765849039998\n",
      "---------------------------- Nueva iteración ----------------------------\n",
      "val(P)= 71.21851768836247\n",
      "El valor de K1 es  7.417561266197228\n",
      "El valor de K2 es  4.024711486625228\n",
      "---------------------------- Nueva iteración ----------------------------\n",
      "val(P)= 71.21843575428375\n",
      "El valor de K1 es  7.417584467620403\n",
      "El valor de K2 es  4.024658547007472\n",
      "---------------------------- Nueva iteración ----------------------------\n",
      "val(P)= 71.22011763257943\n",
      "El valor de K1 es  7.418830362843944\n",
      "El valor de K2 es  4.0225705313796825\n",
      "---------------------------- Nueva iteración ----------------------------\n",
      "val(P)= 71.21958767566367\n",
      "El valor de K1 es  7.4176231535155965\n",
      "El valor de K2 es  4.024730354706141\n",
      "---------------------------- Nueva iteración ----------------------------\n",
      "val(P)= 71.22295181478384\n",
      "El valor de K1 es  7.4177879584746425\n",
      "El valor de K2 es  4.024844545804527\n",
      "---------------------------- Nueva iteración ----------------------------\n",
      "val(P)= 71.21802761596729\n",
      "El valor de K1 es  7.4168417289977295\n",
      "El valor de K2 es  4.025976450870678\n",
      "---------------------------- Nueva iteración ----------------------------\n",
      "val(P)= 71.21921859425859\n",
      "El valor de K1 es  7.417624511293194\n",
      "El valor de K2 es  4.024682000322634\n",
      "---------------------------- Nueva iteración ----------------------------\n",
      "val(P)= 71.24597142394552\n",
      "El valor de K1 es  7.418035512112347\n",
      "El valor de K2 es  4.0272472689152865\n",
      "---------------------------- Nueva iteración ----------------------------\n",
      "val(P)= 71.21913024919712\n",
      "El valor de K1 es  7.417602636809363\n",
      "El valor de K2 es  4.024711340157938\n",
      "---------------------------- Nueva iteración ----------------------------\n",
      "val(P)= 71.24601629875471\n",
      "El valor de K1 es  7.418035420733786\n",
      "El valor de K2 es  4.027253008626802\n",
      "---------------------------- Nueva iteración ----------------------------\n",
      "val(P)= 71.2202304925075\n",
      "El valor de K1 es  7.418188134749457\n",
      "El valor de K2 es  4.0237687918132\n",
      "---------------------------- Nueva iteración ----------------------------\n",
      "val(P)= 71.24605786505472\n",
      "El valor de K1 es  7.4180367551393145\n",
      "El valor de K2 es  4.027255711332088\n",
      "---------------------------- Nueva iteración ----------------------------\n",
      "val(P)= 71.24608474461505\n",
      "El valor de K1 es  7.418037225671283\n",
      "El valor de K2 es  4.027258181836637\n",
      "---------------------------- Nueva iteración ----------------------------\n",
      "val(P)= 71.21771587276478\n",
      "El valor de K1 es  7.418363476117809\n",
      "El valor de K2 es  4.023133009106966\n",
      "---------------------------- Nueva iteración ----------------------------\n",
      "val(P)= 71.2211193117997\n",
      "El valor de K1 es  7.419624863740164\n",
      "El valor de K2 es  4.021229438016247\n",
      "---------------------------- Nueva iteración ----------------------------\n",
      "val(P)= 71.22153425876343\n",
      "El valor de K1 es  7.419687035158473\n",
      "El valor de K2 es  4.021166318254529\n",
      "---------------------------- Nueva iteración ----------------------------\n",
      "val(P)= 71.24629958868931\n",
      "El valor de K1 es  7.418052676169089\n",
      "El valor de K2 es  4.027256396390714\n",
      "---------------------------- Nueva iteración ----------------------------\n",
      "val(P)= 71.2463191835847\n",
      "El valor de K1 es  7.418051032567092\n",
      "El valor de K2 es  4.027261856623554\n",
      "---------------------------- Nueva iteración ----------------------------\n",
      "val(P)= 71.24638663845239\n",
      "El valor de K1 es  7.418055777688541\n",
      "El valor de K2 es  4.0272614910822515\n",
      "---------------------------- Nueva iteración ----------------------------\n",
      "val(P)= 71.24642549862912\n",
      "El valor de K1 es  7.418057397990579\n",
      "El valor de K2 es  4.02726333118985\n",
      "---------------------------- Nueva iteración ----------------------------\n",
      "val(P)= 71.21983976852933\n",
      "El valor de K1 es  7.417638568533685\n",
      "El valor de K2 es  4.024733262606462\n",
      "---------------------------- Nueva iteración ----------------------------\n",
      "val(P)= 71.24625783519238\n",
      "El valor de K1 es  7.418070772584509\n",
      "El valor de K2 es  4.027217879395132\n",
      "---------------------------- Nueva iteración ----------------------------\n",
      "val(P)= 71.21948692512368\n",
      "El valor de K1 es  7.417619097385325\n",
      "El valor de K2 es  4.02472531376095\n"
     ]
    }
   ],
   "source": [
    "lista=np.linspace(1, 1000).tolist()\n",
    "for j in lista:\n",
    "    b1=(1, j)\n",
    "    b=(0.01, None)\n",
    "    # Cotas de las variables\n",
    "    bnds=(b, b, b, b1, b1)\n",
    "    # No definimos tipo de solver\n",
    "    sol=minimize(objective, x0, bounds=bnds, constraints=cons)\n",
    "    # Nos aseguramos de que, en efecto, se satisfagan las restricciones\n",
    "    if constraint1(sol.x)>0 and constraint2(sol.x)>0 and constraint3(sol.x)>0 and constraint4(sol.x)>0:\n",
    "        print(\"---------------------------- Nueva iteración ----------------------------\")\n",
    "        print(\"val(P)=\", sol.fun)\n",
    "        print(\"El valor de K1 es \", (4*sol.x[1]+sol.x[2]-4*sol.x[0])*(1/sol.x[3]))\n",
    "        print(\"El valor de K2 es \", (4*sol.x[1]+sol.x[2]-4*sol.x[0])*(1/sol.x[4]))"
   ]
  },
  {
   "cell_type": "markdown",
   "metadata": {},
   "source": [
    "## Conclusiones"
   ]
  },
  {
   "cell_type": "markdown",
   "metadata": {},
   "source": [
    "Para $C_1, C_2\\geq 1/80$, la elección aproximada de parámetros a tres decimales\n",
    "$$a=13.426, b=70.3, c=0.01, C_1=1/33.191, C_2=1/59.704$$\n",
    "nos entrega $$val(P_{aprox})\\thickapprox 61.5039,$$\n",
    "que es mayor a $val(P)$ y difiere en $2.6\\cdot 10^{-3}$. A partir de ello, en nuestro problema principal se obtiene $\\eta\\geq 39.04$.\n",
    "\n",
    "Se conjetura que $val(P)>61.49$ (en base a una cota inferior para $C_1, C_2$ de $10^{-3}$). Al disminuir la cota inferior de las variables $C_1$ y $C_2$, las mejoras obtenidas en la cota inferior del parámetro $\\eta$ son del orden de $10^{-3}$, lo cual consideramos no significativo. Considerar además que el solver puede no dar buenos resultados con números de orden menor.\n",
    "\n",
    "Asimismo, al iterar sobre distintos valores de cotas inferiores (sobre los parámetros del polinomio en particular) se ve que $K_1$ y $K_2$ decrecen, pero no de manera significativa, manteniéndose acotados inferiormente por $6.85$ y $3.81$ respectivamente.\n",
    "\n",
    "Por último, mencionar que el problema es altamente sensible a la condición inicial $x_0$ asignada."
   ]
  }
 ],
 "metadata": {
  "kernelspec": {
   "display_name": "Python 3",
   "language": "python",
   "name": "python3"
  },
  "language_info": {
   "codemirror_mode": {
    "name": "ipython",
    "version": 3
   },
   "file_extension": ".py",
   "mimetype": "text/x-python",
   "name": "python",
   "nbconvert_exporter": "python",
   "pygments_lexer": "ipython3",
   "version": "3.7.6"
  }
 },
 "nbformat": 4,
 "nbformat_minor": 4
}
