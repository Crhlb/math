{
 "cells": [
  {
   "cell_type": "code",
   "execution_count": 2,
   "metadata": {},
   "outputs": [],
   "source": [
    "import numpy as np\n",
    "import pandas as pd\n",
    "import scipy as sp\n",
    "from scipy.optimize import minimize"
   ]
  },
  {
   "cell_type": "markdown",
   "metadata": {},
   "source": [
    "**Problema de optimización**\\\n",
    "A continuación se define la función _objetivo_ del problema de optimización, seguido de las _constraints_ de dicho problema."
   ]
  },
  {
   "cell_type": "code",
   "execution_count": 3,
   "metadata": {},
   "outputs": [],
   "source": [
    "def objective(x):\n",
    "    a=x[0]\n",
    "    b=x[1]\n",
    "    c=x[2]\n",
    "    return 2*b+c-2*a\n",
    "def constraint1(x):\n",
    "    a=x[0]\n",
    "    b=x[1]\n",
    "    c=x[2]\n",
    "    return 14*a*(b-2*a)**4-1.5*(b**2)*(A**2)-1.5*(b+c-a)*a*b*(A**2)-1.5*a*(b**2)*B*C-0.75*(b+c-a)*(A**4)-0.125*b*(A**2)*B*C\n",
    "def constraint2(x):\n",
    "    a=x[0]\n",
    "    b=x[1]\n",
    "    c=x[2]\n",
    "    return 6*a*(b-2*a)**2-1.5*b*(A**2)-0.75*a*B*C\n",
    "def constraint3(x):\n",
    "    a=x[0]\n",
    "    b=x[1]\n",
    "    c=x[2]\n",
    "    return 4*a*(b-2*a)**3-0.25*(b+c-a)*(A**2)-2*(b-2*a)*B*C\n",
    "def constraint4(x):\n",
    "    return x[1]-2*x[0]"
   ]
  },
  {
   "cell_type": "markdown",
   "metadata": {},
   "source": [
    "A continuación, se da un punto inicial $x_0$ para el problema. Luego, se consideran las cotas que deben satisfacer las variables de entrada para la función objetivo. Por último, se definen las restricciones del problema."
   ]
  },
  {
   "cell_type": "code",
   "execution_count": 4,
   "metadata": {},
   "outputs": [],
   "source": [
    "x0=[1, 3, 1]\n",
    "\n",
    "b=(0.1, None)\n",
    "bnds=(b, b, b)\n",
    "con1={'type':'ineq', 'fun': constraint1}\n",
    "con2={'type':'ineq', 'fun': constraint2}\n",
    "con3={'type':'ineq', 'fun': constraint3}\n",
    "con4={'type':'ineq', 'fun': constraint4}\n",
    "cons=[con1, con2, con3, con4]"
   ]
  },
  {
   "cell_type": "markdown",
   "metadata": {},
   "source": [
    "**Resolución**\\\n",
    "Dado que las constraints están parametrizadas a través de $C_1, C_2, C_3>0$, se fija una constante $C_3$ suficientemente pequeña y se itera sobre los parámetros restantes solviendo el problema de optimización para cada uno de estos parámetros."
   ]
  },
  {
   "cell_type": "code",
   "execution_count": 40,
   "metadata": {},
   "outputs": [
    {
     "name": "stdout",
     "output_type": "stream",
     "text": [
      "[0.10093754 0.1        0.1       ]\n"
     ]
    }
   ],
   "source": [
    "C=0.1\n",
    "lista=range(1, 30)\n",
    "val_opt=100\n",
    "sol_opt=[0, 0, 0]\n",
    "C1=0\n",
    "C2=0\n",
    "for A in lista:\n",
    "    for B in lista:\n",
    "        sol=minimize(objective, x0, method='SLSQP', bounds=bnds, constraints=cons)\n",
    "        if sol.fun<val_opt:\n",
    "            val_opt=sol.fun\n",
    "            sol_opt=sol.x\n",
    "            C1=A\n",
    "            C2=B            \n",
    "        #print(\"Solución problema de optimización:\", A, B)\n",
    "print(sol_opt)"
   ]
  },
  {
   "cell_type": "code",
   "execution_count": 41,
   "metadata": {},
   "outputs": [
    {
     "name": "stdout",
     "output_type": "stream",
     "text": [
      "El valor del problema de minimización es: 0.0981249299701196\n",
      "Solución del problema: a=0.10000000000141096, b=0.19999999999978169, c=0.09999999999999998\n",
      "Las constantes del problema son: C1=3, C2=2, C3=0.1\n"
     ]
    }
   ],
   "source": [
    "print(\"El valor del problema de minimización es:\", val_opt)\n",
    "print(\"Solución del problema: a=%s, b=%s, c=%s\" %tuple(sol.x))\n",
    "print(\"Las constantes del problema son: C1=%s, C2=%s, C3=0.1\" %(C1, C2))"
   ]
  }
 ],
 "metadata": {
  "kernelspec": {
   "display_name": "Python 3",
   "language": "python",
   "name": "python3"
  },
  "language_info": {
   "codemirror_mode": {
    "name": "ipython",
    "version": 3
   },
   "file_extension": ".py",
   "mimetype": "text/x-python",
   "name": "python",
   "nbconvert_exporter": "python",
   "pygments_lexer": "ipython3",
   "version": "3.7.6"
  }
 },
 "nbformat": 4,
 "nbformat_minor": 4
}
