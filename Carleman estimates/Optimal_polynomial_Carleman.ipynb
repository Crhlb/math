{
 "cells": [
  {
   "cell_type": "code",
   "execution_count": 1,
   "metadata": {},
   "outputs": [],
   "source": [
    "import numpy as np\n",
    "import pandas as pd\n",
    "import scipy as sp\n",
    "from scipy.optimize import minimize"
   ]
  },
  {
   "cell_type": "markdown",
   "metadata": {},
   "source": [
    "## Problema principal"
   ]
  },
  {
   "cell_type": "markdown",
   "metadata": {},
   "source": [
    "Buscamos minimizar las cantidades $$K_1=(4b+c-4a)C_1$$ y $$K_2=(4b+c-4a)C2$$ provenientes de la función\n",
    "$$K(\\tau)=K_1+K_2\\tau^{1/2}-\\tfrac{2}{3\\sqrt{3}}(\\tau-1)^{3/2}.$$\n",
    "Para esto, establecemos el problema de minimización $(P)$ dado por\n",
    "$$\\min_{(a, b, c, C_1, C_2)\\in X}\\ K_1^2+K_2^2$$\n",
    "donde $X\\subset \\mathbb{R}^5$ es el espacio de restricciones del problema."
   ]
  },
  {
   "cell_type": "markdown",
   "metadata": {},
   "source": [
    "## Problema de optimización\n",
    "\n",
    "A continuación se define la función _objetivo_ del problema de optimización, seguido de las _constraints_ de dicho problema.\n",
    "\n",
    "*_Observación_*: por comodidad, en el código se consideró $C_1=A^{-1}, C_2=B^{-1}$ y $C_3=C$."
   ]
  },
  {
   "cell_type": "code",
   "execution_count": 2,
   "metadata": {},
   "outputs": [],
   "source": [
    "def objective(x):\n",
    "    a=x[0]\n",
    "    b=x[1]\n",
    "    c=x[2]\n",
    "    A=x[3]\n",
    "    B=x[4]\n",
    "    return ((4*b+c-4*a)**2)*(1/(A**2)+1/(B**2))\n",
    "def constraint1(x):\n",
    "    a=x[0]\n",
    "    b=x[1]\n",
    "    c=x[2]\n",
    "    A=x[3]\n",
    "    B=x[4]\n",
    "    return 14*a*(b-2*a)**4-1.5*(b**2)*(A**2)-1.5*(b+c-a)*a*b*(A**2)-1.5*a*(b**2)*(B**2)-0.75*(b+c-a)*(A**4)-0.125*b*(A**2)*(B**2)\n",
    "def constraint2(x):\n",
    "    a=x[0]\n",
    "    b=x[1]\n",
    "    c=x[2]\n",
    "    A=x[3]\n",
    "    B=x[4]\n",
    "    return 6*a*(b-2*a)**2-1.5*b*(A**2)-0.75*a*(B**2)\n",
    "def constraint3(x):\n",
    "    a=x[0]\n",
    "    b=x[1]\n",
    "    c=x[2]\n",
    "    A=x[3]\n",
    "    B=x[4]\n",
    "    return 4*a*(b-2*a)**3-0.25*(b+c-a)*(A**2)-3*(a**2)/((b-2*a)*C)-2*(b-2*a)*(B**2)\n",
    "def constraint4(x):\n",
    "    return x[1]-2*x[0]"
   ]
  },
  {
   "cell_type": "markdown",
   "metadata": {},
   "source": [
    "Se da un punto inicial $x_0$ para el problema. Luego, se consideran las cotas que deben satisfacer las variables de entrada para la función objetivo. Por último, se definen las restricciones del problema."
   ]
  },
  {
   "cell_type": "code",
   "execution_count": 3,
   "metadata": {},
   "outputs": [],
   "source": [
    "x0=[1, 8, 0.5, 3, 3]\n",
    "\n",
    "#restricciones\n",
    "con1={'type':'ineq', 'fun': constraint1}\n",
    "con2={'type':'ineq', 'fun': constraint2}\n",
    "con3={'type':'ineq', 'fun': constraint3}\n",
    "con4={'type':'ineq', 'fun': constraint4}\n",
    "cons=[con1, con2, con3, con4]"
   ]
  },
  {
   "cell_type": "markdown",
   "metadata": {},
   "source": [
    "### Resolución\n",
    "\n",
    "Fijamos $C_3$ suficientemente grande para resolver el problema."
   ]
  },
  {
   "cell_type": "code",
   "execution_count": 4,
   "metadata": {},
   "outputs": [
    {
     "name": "stdout",
     "output_type": "stream",
     "text": [
      "---------------------------- Nueva iteración ----------------------------\n",
      "val(P)= 62.37647894013029\n",
      "Solución del problema: a=0.941875142238227, b=4.851893528670542, c=0.10000000000998419, C1=1/2.3059102711604456, C2=1/3.9620253164456605\n",
      "El valor de K1 es  6.825969658315489\n",
      "El valor de K2 es  3.97273421762476\n",
      "---------------------------- Nueva iteración ----------------------------\n",
      "val(P)= 61.688128504477774\n",
      "Solución del problema: a=3.7840382656884692, b=19.805659193978197, c=0.1, C1=1/9.353951253541172, C2=1/16.79746835443038\n",
      "El valor de K1 es  6.861964743386866\n",
      "El valor de K2 es  3.821199859336514\n",
      "---------------------------- Nueva iteración ----------------------------\n",
      "val(P)= 61.682640673709486\n",
      "Solución del problema: a=3.895049105925121, b=20.386914513422, c=0.10000000000001051, C1=1/9.628383173195356, C2=1/17.29113924050632\n",
      "El valor de K1 es  6.861739966260796\n",
      "El valor de K2 es  3.8208854090549176\n",
      "---------------------------- Nueva iteración ----------------------------\n",
      "val(P)= 61.67745753805623\n",
      "Solución del problema: a=4.00605431622899, b=20.968151627789226, c=0.1, C1=1/9.902805485099092, C2=1/17.78481012658228\n",
      "El valor de K1 es  6.861529225075051\n",
      "El valor de K2 es  3.820585587511056\n",
      "---------------------------- Nueva iteración ----------------------------\n",
      "val(P)= 61.66350205124915\n",
      "Solución del problema: a=4.339063560315851, b=22.71183896524589, c=0.1, C1=1/10.726058942778685, C2=1/19.265822784810126\n",
      "El valor de K1 es  6.860963753072168\n",
      "El valor de K2 es  3.819774657002557\n",
      "---------------------------- Nueva iteración ----------------------------\n",
      "val(P)= 61.65931515124398\n",
      "Solución del problema: a=4.4500877610547915, b=23.293142751316708, c=0.10000000000007198, C1=1/11.000517656079412, C2=1/19.759493670886076\n",
      "El valor de K1 es  6.860788039309965\n",
      "El valor de K2 es  3.8195422017442477\n",
      "---------------------------- Nueva iteración ----------------------------\n",
      "val(P)= 61.62162778840933\n",
      "Solución del problema: a=5.782194148004962, b=30.26813052558949, c=0.10000000000001594, C1=1/14.293660319891243, C2=1/25.68354430379747\n",
      "El valor de K1 es  6.859246918992415\n",
      "El valor de K2 es  3.8173759957204108\n",
      "---------------------------- Nueva iteración ----------------------------\n",
      "val(P)= 61.608629952703765\n",
      "Solución del problema: a=6.448216375199239, b=33.75540387934818, c=0.10000000000031652, C1=1/15.940086782829917, C2=1/28.645569620253166\n",
      "El valor de K1 es  6.858729911957633\n",
      "El valor de K2 es  3.8166024088869155\n",
      "---------------------------- Nueva iteración ----------------------------\n",
      "val(P)= 61.59350054187902\n",
      "Solución del problema: a=7.448598536436273, b=38.9948499203465, c=0.1000000000032647, C1=1/18.41521579937963, C2=1/33.08860759493671\n",
      "El valor de K1 es  6.8576446190708475\n",
      "El valor de K2 es  3.816570557504166\n",
      "---------------------------- Nueva iteración ----------------------------\n",
      "val(P)= 61.59206245208147\n",
      "Solución del problema: a=7.55832942422905, b=39.568088086016914, c=0.1000000000000664, C1=1/18.684501976810896, C2=1/33.58227848101266\n",
      "El valor de K1 es  6.858038539436764\n",
      "El valor de K2 es  3.8156742318601475\n",
      "---------------------------- Nueva iteración ----------------------------\n",
      "val(P)= 61.5786812575599\n",
      "Solución del problema: a=8.7794263811962, b=45.96184146684421, c=0.10000000000017563, C1=1/21.703227375115297, C2=1/39.0126582278481\n",
      "El valor de K1 es  6.857489799569571\n",
      "El valor de K2 es  3.8149069328568412\n",
      "---------------------------- Nueva iteración ----------------------------\n",
      "val(P)= 61.57663868546476\n",
      "Solución del problema: a=9.001451934312342, b=47.1243767740003, c=0.10000000000011433, C1=1/22.252106978121837, C2=1/40.0\n",
      "El valor de K1 es  6.85740453741209\n",
      "El valor de K2 es  3.814792483968798\n"
     ]
    }
   ],
   "source": [
    "C=10000000\n",
    "lista=np.linspace(1, 40, 80).tolist()\n",
    "for j in lista:\n",
    "    b1=(1, j)\n",
    "    b=(0.1, None)\n",
    "    # Cotas de las variables\n",
    "    bnds=(b, b, b, b1, b1)\n",
    "    # No definimos tipo de solver\n",
    "    sol=minimize(objective, x0, bounds=bnds, constraints=cons)\n",
    "    # Nos aseguramos de que, en efecto, se satisfagan las restricciones\n",
    "    if constraint1(sol.x)>0 and constraint2(sol.x)>0 and constraint3(sol.x)>0 and constraint4(sol.x)>0:\n",
    "        print(\"---------------------------- Nueva iteración ----------------------------\")\n",
    "        print(\"val(P)=\", sol.fun)\n",
    "        print(\"Solución del problema: a=%s, b=%s, c=%s, C1=1/%s, C2=1/%s\" %tuple(sol.x))\n",
    "        print(\"El valor de K1 es \", (4*sol.x[1]+sol.x[2]-4*sol.x[0])*(1/sol.x[3]))\n",
    "        print(\"El valor de K2 es \", (4*sol.x[1]+sol.x[2]-4*sol.x[0])*(1/sol.x[4]))"
   ]
  },
  {
   "cell_type": "markdown",
   "metadata": {},
   "source": [
    "## Conclusiones"
   ]
  },
  {
   "cell_type": "markdown",
   "metadata": {},
   "source": [
    "Al iterar sobre distintos valores de cotas inferiores (sobre $b$ en particular) se ve un comportamiento similar para $K_1$ y $K_2$, pues mantienen valores similares que no bajan de $6.85$ y $3.81$ respectivamente.\n",
    "\n",
    "Del mismo modo, se puede apreciar una conclusión análoga al variar la cota inferior de $C_1, C_2$, donde se mantiene $val(P)$ y los valores de $K_1$ y $K_2$.\n",
    "\n",
    "Por último, mencionar que el problema es altamente sensible a la condición inicial $x_0$ asignada."
   ]
  }
 ],
 "metadata": {
  "kernelspec": {
   "display_name": "Python 3",
   "language": "python",
   "name": "python3"
  },
  "language_info": {
   "codemirror_mode": {
    "name": "ipython",
    "version": 3
   },
   "file_extension": ".py",
   "mimetype": "text/x-python",
   "name": "python",
   "nbconvert_exporter": "python",
   "pygments_lexer": "ipython3",
   "version": "3.7.6"
  }
 },
 "nbformat": 4,
 "nbformat_minor": 4
}
