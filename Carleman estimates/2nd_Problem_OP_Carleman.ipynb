{
 "cells": [
  {
   "cell_type": "code",
   "execution_count": 1,
   "metadata": {},
   "outputs": [],
   "source": [
    "import numpy as np\n",
    "import pandas as pd\n",
    "import scipy as sp\n",
    "from scipy.optimize import minimize"
   ]
  },
  {
   "cell_type": "markdown",
   "metadata": {},
   "source": [
    "## Problema principal"
   ]
  },
  {
   "cell_type": "markdown",
   "metadata": {},
   "source": [
    "Buscamos minimizar las cantidades $K_1=(b+c-a)C_1$ y $K_2=(b+c-a)C2$ provenientes de la función\n",
    "$$K(\\tau)=K_1+K_2\\tau^{1/2}-\\tfrac{2}{3\\sqrt{3}}(\\tau-1)^{3/2}.$$\n",
    "\n",
    "Para esto, establecemos el problema de minimización $(P)$ dado por\n",
    "$$\\min_{(a, b, c, C_1, C_2)\\in X}\\ K_1^2+K_2^2$$\n",
    "donde $X\\subset \\mathbb{R}^5$ es el espacio de restricciones del problema."
   ]
  },
  {
   "cell_type": "markdown",
   "metadata": {},
   "source": [
    "## Problema de minimización\n",
    "\n",
    "Establecemos la función objetivo y las restricciones del problema $(P)$.\n",
    "\n",
    "*_Observación_*: por comodidad, en el código se consideró $C_1=A^{-1}$ y $C_2=B^{-1}$."
   ]
  },
  {
   "cell_type": "code",
   "execution_count": 2,
   "metadata": {},
   "outputs": [],
   "source": [
    "def objective(x):\n",
    "    a=x[0]\n",
    "    b=x[1]\n",
    "    c=x[2]\n",
    "    A=x[3]\n",
    "    B=x[4]\n",
    "    return ((b+c-a)**2)*(1/(A**2)+1/(B**2))\n",
    "def constraint1(x):\n",
    "    a=x[0]\n",
    "    b=x[1]\n",
    "    c=x[2]\n",
    "    A=x[3]\n",
    "    B=x[4]\n",
    "    return 14*a*(b-2*a)**4-1.5*(b**2)*(A**2)-1.5*(b+c-a)*a*b*(A**2)-1.5*a*(b**2)*(B**2)-0.75*(b+c-a)*(A**4)-0.125*b*(A**2)*(B**2)\n",
    "def constraint2(x):\n",
    "    a=x[0]\n",
    "    b=x[1]\n",
    "    c=x[2]\n",
    "    A=x[3]\n",
    "    B=x[4]\n",
    "    return 6*a*(b-2*a)**2-1.5*b*(A**2)-0.75*a*(B**2)\n",
    "def constraint3(x):\n",
    "    return x[1]-2*x[0]"
   ]
  },
  {
   "cell_type": "code",
   "execution_count": 3,
   "metadata": {},
   "outputs": [],
   "source": [
    "x0=[1, 5, 1, 3, 3]\n",
    "\n",
    "#restricciones\n",
    "con1={'type':'ineq', 'fun': constraint1}\n",
    "con2={'type':'ineq', 'fun': constraint2}\n",
    "con3={'type':'ineq', 'fun': constraint3}\n",
    "cons=[con1, con2, con3]"
   ]
  },
  {
   "cell_type": "markdown",
   "metadata": {},
   "source": [
    "## Resolución"
   ]
  },
  {
   "cell_type": "code",
   "execution_count": 4,
   "metadata": {},
   "outputs": [
    {
     "name": "stdout",
     "output_type": "stream",
     "text": [
      "---------------------------- Nueva iteración ----------------------------\n",
      "val(P)= 3.8597877085504755\n",
      "Solución del problema: a=11.167733465394402, b=58.44373699244485, c=0.1, C1=1/27.605328815516536, C2=1/49.54180602006689\n",
      "El valor de K1 es  1.7161905168259077\n",
      "El valor de K2 es  0.9562833358933424\n",
      "---------------------------- Nueva iteración ----------------------------\n",
      "val(P)= 3.8596594740831565\n",
      "Solución del problema: a=11.253988249950526, b=58.891178628578274, c=0.10000000000936109, C1=1/27.81346210141176, C2=1/49.93645484949833\n",
      "El valor de K1 es  1.7163339897989205\n",
      "El valor de K2 es  0.9559587384108561\n",
      "---------------------------- Nueva iteración ----------------------------\n",
      "val(P)= 3.859469546116773\n",
      "Solución del problema: a=11.389593645948608, b=59.60540284817675, c=0.1, C1=1/28.153794428301577, C2=1/50.52842809364549\n",
      "El valor de K1 es  1.7161384525014052\n",
      "El valor de K2 es  0.956210415108963\n",
      "---------------------------- Nueva iteración ----------------------------\n",
      "val(P)= 3.859223883967418\n",
      "Solución del problema: a=11.567084473094363, b=60.53195460137287, c=0.1000000000318828, C1=1/28.590441080023954, C2=1/51.317725752508366\n",
      "El valor de K1 es  1.7161284777306864\n",
      "El valor de K2 es  0.95609985455975\n",
      "---------------------------- Nueva iteración ----------------------------\n",
      "val(P)= 3.8587612405422194\n",
      "Solución del problema: a=11.89179259843006, b=62.629940334704436, c=0.10000000000068741, C1=1/29.605654481844486, C2=1/53.290969899665555\n",
      "El valor de K1 es  1.7171769591329689\n",
      "El valor de K2 es  0.9539730245479005\n",
      "---------------------------- Nueva iteración ----------------------------\n",
      "val(P)= 3.8584208301031504\n",
      "Solución del problema: a=12.186959658934262, b=63.7720539384716, c=0.1000000000307003, C1=1/30.117566630873196, C2=1/54.08026755852843\n",
      "El valor de K1 es  1.716111228806453\n",
      "El valor de K2 es  0.9557107723927545\n",
      "---------------------------- Nueva iteración ----------------------------\n",
      "val(P)= 3.8583126496946734\n",
      "Solución del problema: a=12.273638645461999, b=64.23376294694982, c=0.10000000005622915, C1=1/30.336271853625522, C2=1/54.474916387959865\n",
      "El valor de K1 es  1.7161015879847572\n",
      "El valor de K2 es  0.9556714861346802\n",
      "---------------------------- Nueva iteración ----------------------------\n",
      "val(P)= 3.858049190047415\n",
      "Solución del problema: a=12.495593695684116, b=65.39199779503699, c=0.10000000000137747, C1=1/30.88204479150683, C2=1/55.46153846153847\n",
      "El valor de K1 es  1.7160911609690206\n",
      "El valor de K2 es  0.9555523624016715\n",
      "---------------------------- Nueva iteración ----------------------------\n",
      "val(P)= 3.8576953445756157\n",
      "Solución del problema: a=12.808005926332456, b=67.02527385640944, c=0.10000000007330336, C1=1/31.65381814782209, C2=1/56.84280936454849\n",
      "El valor de K1 es  1.7159783908687027\n",
      "El valor de K2 es  0.9555697288253081\n",
      "---------------------------- Nueva iteración ----------------------------\n",
      "val(P)= 3.8576464227875635\n",
      "Solución del problema: a=12.849676413604055, b=67.24815527570077, c=0.1000000000017078, C1=1/31.758356831174634, C2=1/57.04013377926422\n",
      "El valor de K1 es  1.716035850085343\n",
      "El valor de K2 es  0.9554409369549942\n",
      "---------------------------- Nueva iteración ----------------------------\n",
      "val(P)= 3.8573832191804227\n",
      "Solución del problema: a=13.079623632203313, b=68.88840512345926, c=0.1000000000040509, C1=1/32.564014158794215, C2=1/58.618729096989966\n",
      "El valor de K1 es  1.7168885020939997\n",
      "El valor de K2 es  0.9537699358639093\n",
      "---------------------------- Nueva iteración ----------------------------\n",
      "val(P)= 3.857336887265192\n",
      "Solución del problema: a=13.123654545733244, b=69.12022646295401, c=0.10000000000294504, C1=1/32.67357529134842, C2=1/58.81605351170569\n",
      "El valor de K1 es  1.7168788973050473\n",
      "El valor de K2 es  0.9537629366115028\n",
      "---------------------------- Nueva iteración ----------------------------\n",
      "val(P)= 3.857290875157209\n",
      "Solución del problema: a=13.167689464962397, b=69.35205577972887, c=0.10000000000452909, C1=1/32.783139396562675, C2=1/59.013377926421406\n",
      "El valor de K1 es  1.716869322181891\n",
      "El valor de K2 es  0.953756051465941\n",
      "---------------------------- Nueva iteración ----------------------------\n",
      "val(P)= 3.8571277094386858\n",
      "Solución del problema: a=13.337156338628404, b=69.80132380225709, c=0.10000000000068067, C1=1/32.963542080220144, C2=1/59.21070234113713\n",
      "El valor de K1 es  1.715961449955065\n",
      "El valor de K2 es  0.9553030993913906\n",
      "---------------------------- Nueva iteración ----------------------------\n",
      "val(P)= 3.857200439503358\n",
      "Solución del problema: a=13.255382648497866, b=69.81504093616694, c=0.1, C1=1/33.00203761049916, C2=1/59.40802675175973\n",
      "El valor de K1 es  1.7168533336148781\n",
      "El valor de K2 es  0.9537374221235307\n",
      "---------------------------- Nueva iteración ----------------------------\n",
      "val(P)= 3.857155304004739\n",
      "Solución del problema: a=13.299437063642563, b=70.04689026259152, c=0.10000000000019726, C1=1/33.11160228842974, C2=1/59.60535117056856\n",
      "El valor de K1 es  1.716843923883849\n",
      "El valor de K2 es  0.9537306983776117\n",
      "---------------------------- Nueva iteración ----------------------------\n",
      "val(P)= 3.8569927746372548\n",
      "Solución del problema: a=13.470198269984438, b=70.49792424670966, c=0.10000000000156455, C1=1/33.29237317674858, C2=1/59.802675585284284\n",
      "El valor de K1 es  1.7159403348459648\n",
      "El valor de K2 es  0.9552704024965778\n",
      "---------------------------- Nueva iteración ----------------------------\n",
      "val(P)= 3.8570658961421485\n",
      "Solución del problema: a=13.387569025397243, b=70.51061167630954, c=0.10000000000035261, C1=1/33.33073152147206, C2=1/60.0\n",
      "El valor de K1 es  1.716825285219104\n",
      "El valor de K2 es  0.9537173775152108\n"
     ]
    }
   ],
   "source": [
    "lista=np.linspace(1, 60, 300).tolist()\n",
    "for j in lista:\n",
    "    b1=(1, j)\n",
    "    b=(0.1, None)\n",
    "    # Cotas de las variables\n",
    "    bnds=(b, b, b, b1, b1)\n",
    "    sol=minimize(objective, x0, bounds=bnds, constraints=cons)\n",
    "    # Nos aseguramos de que, en efecto, se satisfagan las restricciones\n",
    "    # La primera condición imprime los valores que quedan debajo de cierto umbral -calculado previamente-\n",
    "    if sol.fun<3.86 and constraint1(sol.x)>0 and constraint2(sol.x)>0 and constraint3(sol.x)>0:\n",
    "        print(\"---------------------------- Nueva iteración ----------------------------\")\n",
    "        print(\"val(P)=\", sol.fun)\n",
    "        print(\"Solución del problema: a=%s, b=%s, c=%s, C1=1/%s, C2=1/%s\" %tuple(sol.x))\n",
    "        print(\"El valor de K1 es \", (sol.x[1]+sol.x[2]-sol.x[0])*(1/sol.x[3]))\n",
    "        print(\"El valor de K2 es \", (sol.x[1]+sol.x[2]-sol.x[0])*(1/sol.x[4]))"
   ]
  }
 ],
 "metadata": {
  "kernelspec": {
   "display_name": "Python 3",
   "language": "python",
   "name": "python3"
  },
  "language_info": {
   "codemirror_mode": {
    "name": "ipython",
    "version": 3
   },
   "file_extension": ".py",
   "mimetype": "text/x-python",
   "name": "python",
   "nbconvert_exporter": "python",
   "pygments_lexer": "ipython3",
   "version": "3.7.6"
  }
 },
 "nbformat": 4,
 "nbformat_minor": 4
}
