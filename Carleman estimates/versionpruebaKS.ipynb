{
 "cells": [
  {
   "cell_type": "code",
   "execution_count": 1,
   "metadata": {},
   "outputs": [],
   "source": [
    "import numpy as np\n",
    "import pandas as pd\n",
    "import scipy as sp\n",
    "from scipy.optimize import minimize"
   ]
  },
  {
   "cell_type": "code",
   "execution_count": 24,
   "metadata": {},
   "outputs": [],
   "source": [
    "def objective(x):\n",
    "    a=x[0]\n",
    "    b=x[1]\n",
    "    c=x[2]\n",
    "    B=x[3]\n",
    "    return (4*b+c-4*a)/B\n",
    "def constraint1(x):\n",
    "    a=x[0]\n",
    "    b=x[1]\n",
    "    c=x[2]\n",
    "    B=x[3]\n",
    "    return 16*a*(b-2*a)**6-4*(b**4)*(A**3)/3-4*(b+c-a)*(A**6)/9-4*b*(A**3)*(B**3)/9-2*a*(b**3)*(B**3)-3.174802*(a**2)*(A**3)/(C)\n",
    "def constraint2(x):\n",
    "    a=x[0]\n",
    "    b=x[1]\n",
    "    c=x[2]\n",
    "    B=x[3]\n",
    "    return 36*a*(b-2*a)**4-4*(b**2)*(A**3)-77.782651*(a**3)/(C)-4*(b+c-a)*a*(A**3)-9*a*b*(B**3)\n",
    "def constraint3(x):\n",
    "    a=x[0]\n",
    "    b=x[1]\n",
    "    c=x[2]\n",
    "    B=x[3]\n",
    "    return 6*(b-2*a)**5-0.132283*(b-2*a)*(A**3)/(C**2)-38.097625*(a**2)*(b-2*a)/(C**2)-2*(b+c-a)*(b-2*a)*(A**3)/3-0.25*((b-2*a)**2)*(B**3)-(B**6)/(64*(b-2*a))\n",
    "def constraint4(x):\n",
    "    a=x[0]\n",
    "    b=x[1]\n",
    "    c=x[2]\n",
    "    B=x[3]\n",
    "    return 10*(b-2*a)**3-0.125*(B**3)\n",
    "def constraint5(x):\n",
    "    return x[1]-2*x[0]\n",
    "def constraint6(x):\n",
    "    a=x[0]\n",
    "    b=x[1]\n",
    "    c=x[2]\n",
    "    B=x[3]\n",
    "    return 7*A-(4*b+c-4*a)\n",
    "\n",
    "#restricciones\n",
    "con1={'type':'ineq', 'fun': constraint1}\n",
    "con2={'type':'ineq', 'fun': constraint2}\n",
    "con3={'type':'ineq', 'fun': constraint3}\n",
    "con4={'type':'ineq', 'fun': constraint4}\n",
    "con5={'type':'ineq', 'fun': constraint5}\n",
    "con6={'type':'ineq', 'fun': constraint6}\n",
    "cons=[con1, con2, con3, con4, con5, con6]"
   ]
  },
  {
   "cell_type": "code",
   "execution_count": 32,
   "metadata": {},
   "outputs": [
    {
     "name": "stdout",
     "output_type": "stream",
     "text": [
      "---------------------------- Solución ----------------------------\n",
      "val(P)= 3.693545191972712\n",
      "Solución del problema: a=0.4978394603656036, b=7.253741300996522, c=0.01, C2=1/7.319148936170212\n",
      "El valor de K1 es  6.758401840630919\n",
      "El valor de K2 es  3.693545191972712\n"
     ]
    }
   ],
   "source": [
    "x0=[0.5, 8, 0.5, 3]\n",
    "C=1000000 # 10^7\n",
    "lista=np.linspace(1, 100, 800).tolist()\n",
    "val_p_min=1000\n",
    "sol_p_min=[10, 10, 10, 10]\n",
    "A=4\n",
    "\n",
    "for j in lista:\n",
    "    b1=(1, j)\n",
    "    b=(0.01, None)\n",
    "    # Cotas de las variables\n",
    "    bnds=(b, b, b, b1)\n",
    "    # No definimos tipo de solver\n",
    "    sol=minimize(objective, x0, bounds=bnds, constraints=cons)\n",
    "    # Nos aseguramos de que, en efecto, se satisfagan las restricciones\n",
    "    # Guardamos la mínima solución\n",
    "    if sol.fun<val_p_min and constraint1(sol.x)>0 and constraint2(sol.x)>0 and constraint3(sol.x)>0 and constraint4(sol.x)>0 and constraint5(sol.x)>0 and constraint6(sol.x)>0:\n",
    "        val_p_min=sol.fun\n",
    "        sol_p_min=sol.x\n",
    "        \n",
    "print(\"---------------------------- Solución ----------------------------\")\n",
    "print(\"val(P)=\", val_p_min)\n",
    "print(\"Solución del problema: a=%s, b=%s, c=%s, C2=1/%s\" %tuple(sol_p_min))\n",
    "print(\"El valor de K1 es \", (4*sol_p_min[1]+sol_p_min[2]-4*sol_p_min[0])*(1/A))\n",
    "print(\"El valor de K2 es \", (4*sol_p_min[1]+sol_p_min[2]-4*sol_p_min[0])*(1/sol_p_min[3]))"
   ]
  },
  {
   "cell_type": "code",
   "execution_count": 31,
   "metadata": {},
   "outputs": [
    {
     "name": "stdout",
     "output_type": "stream",
     "text": [
      "[0.469 6.592 0.01  6.941]\n",
      "0.000258133652038417\n",
      "3.5297807656420113\n",
      "255.55790457597098\n",
      "0.0004406464777275687\n",
      "30674.9787464866\n",
      "1764.9873292475804\n",
      "5.65330294712456\n",
      "1.3491888850580835e-07\n"
     ]
    }
   ],
   "source": [
    "print(sol_p_min.round(3))\n",
    "print(objective(sol_p_min.round(3))-objective(sol_p_min))\n",
    "print(objective(sol_p_min))\n",
    "print(constraint1(sol_p_min))\n",
    "print(constraint2(sol_p_min))\n",
    "print(constraint3(sol_p_min))\n",
    "print(constraint4(sol_p_min))\n",
    "print(constraint5(sol_p_min))\n",
    "print(constraint6(sol_p_min))"
   ]
  },
  {
   "cell_type": "markdown",
   "metadata": {},
   "source": [
    "A=3.3 [0.442 6.215 0.01  6.544]\n",
    "A=3.5 [0.469 6.592 0.01  6.941] (este arroja 32.71)\n"
   ]
  }
 ],
 "metadata": {
  "kernelspec": {
   "display_name": "Python 3",
   "language": "python",
   "name": "python3"
  },
  "language_info": {
   "codemirror_mode": {
    "name": "ipython",
    "version": 3
   },
   "file_extension": ".py",
   "mimetype": "text/x-python",
   "name": "python",
   "nbconvert_exporter": "python",
   "pygments_lexer": "ipython3",
   "version": "3.7.6"
  }
 },
 "nbformat": 4,
 "nbformat_minor": 4
}
