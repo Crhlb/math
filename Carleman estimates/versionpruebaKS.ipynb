{
 "cells": [
  {
   "cell_type": "code",
   "execution_count": 1,
   "metadata": {},
   "outputs": [],
   "source": [
    "import numpy as np\n",
    "import pandas as pd\n",
    "import scipy as sp\n",
    "from scipy.optimize import minimize"
   ]
  },
  {
   "cell_type": "code",
   "execution_count": 2,
   "metadata": {},
   "outputs": [],
   "source": [
    "def objective(x):\n",
    "    a=x[0]\n",
    "    b=x[1]\n",
    "    c=x[2]\n",
    "    B=x[3]\n",
    "    return (4*b+c-4*a)/B\n",
    "def constraint1(x):\n",
    "    a=x[0]\n",
    "    b=x[1]\n",
    "    c=x[2]\n",
    "    B=x[3]\n",
    "    return 16*a*(b-2*a)**6-4*(b**4)*(A**3)/3-4*(b+c-a)*(A**6)/9-4*b*(A**3)*(B**3)/9-2*a*(b**3)*(B**3)-3.174802*(a**2)*(A**3)/(C)\n",
    "def constraint2(x):\n",
    "    a=x[0]\n",
    "    b=x[1]\n",
    "    c=x[2]\n",
    "    B=x[3]\n",
    "    return 36*a*(b-2*a)**4-4*(b**2)*(A**3)-77.782651*(a**3)/(C)-4*(b+c-a)*a*(A**3)-9*a*b*(B**3)\n",
    "def constraint3(x):\n",
    "    a=x[0]\n",
    "    b=x[1]\n",
    "    c=x[2]\n",
    "    B=x[3]\n",
    "    return 6*(b-2*a)**5-0.132283*(b-2*a)*(A**3)/(C**2)-38.097625*(a**2)*(b-2*a)/(C**2)-2*(b+c-a)*(b-2*a)*(A**3)/3-0.25*((b-2*a)**2)*(B**3)-(B**6)/(64*(b-2*a))\n",
    "def constraint4(x):\n",
    "    a=x[0]\n",
    "    b=x[1]\n",
    "    c=x[2]\n",
    "    B=x[3]\n",
    "    return 10*(b-2*a)**3-0.125*(B**3)\n",
    "def constraint5(x):\n",
    "    return x[1]-2*x[0]\n",
    "def constraint6(x):\n",
    "    a=x[0]\n",
    "    b=x[1]\n",
    "    c=x[2]\n",
    "    B=x[3]\n",
    "    return 7*A-(4*b+c-4*a)\n",
    "\n",
    "#restricciones\n",
    "con1={'type':'ineq', 'fun': constraint1}\n",
    "con2={'type':'ineq', 'fun': constraint2}\n",
    "con3={'type':'ineq', 'fun': constraint3}\n",
    "con4={'type':'ineq', 'fun': constraint4}\n",
    "con5={'type':'ineq', 'fun': constraint5}\n",
    "con6={'type':'ineq', 'fun': constraint6}\n",
    "cons=[con1, con2, con3, con4, con5, con6]"
   ]
  },
  {
   "cell_type": "code",
   "execution_count": 14,
   "metadata": {},
   "outputs": [
    {
     "name": "stdout",
     "output_type": "stream",
     "text": [
      "---------------------------- Solución ----------------------------\n",
      "val(P)= 4.124051322011601\n",
      "A=%s 2.5\n",
      "Solución del problema: a=0.3187334811988569, b=4.285439321783237, c=0.010000000000000278, C2=1/3.849812265331663\n",
      "El valor de K1 es  6.350729344935009\n",
      "El valor de K2 es  4.124051322011601\n",
      "---------------------------- Solución ----------------------------\n",
      "val(P)= 3.6026595790882494\n",
      "A=%s 2.6\n",
      "Solución del problema: a=0.3214347987912068, b=4.790696547928592, c=0.01, C2=1/4.964956195244055\n",
      "El valor de K1 es  6.8796334602113625\n",
      "El valor de K2 es  3.6026595790882494\n",
      "---------------------------- Solución ----------------------------\n",
      "val(P)= 3.579892589384459\n",
      "A=%s 2.7\n",
      "Solución del problema: a=0.3332058198112673, b=4.9959913751261205, c=0.010000000000000536, C2=1/5.212765957446808\n",
      "El valor de K1 es  6.911534156022005\n",
      "El valor de K2 es  3.5798925893844595\n",
      "---------------------------- Solución ----------------------------\n",
      "val(P)= 3.55954742102328\n",
      "A=%s 2.8\n",
      "Solución del problema: a=0.3536385397589447, b=5.210433094804179, c=0.01, C2=1/5.460575719649562\n",
      "El valor de K1 es  6.941849364350336\n",
      "El valor de K2 es  3.55954742102328\n",
      "---------------------------- Solución ----------------------------\n",
      "val(P)= 3.530354697607868\n",
      "A=%s 2.9\n",
      "Solución del problema: a=0.3887550201472579, b=5.461255020147256, c=0.010000000000000014, C2=1/5.750130436965743\n",
      "El valor de K1 es  6.999999999999998\n",
      "El valor de K2 es  3.530354697607868\n",
      "---------------------------- Solución ----------------------------\n",
      "val(P)= 3.530354697607868\n",
      "A=%s 3.0\n",
      "Solución del problema: a=0.3887550201472579, b=5.461255020147256, c=0.010000000000000014, C2=1/5.750130436965743\n",
      "El valor de K1 es  6.766666666666664\n",
      "El valor de K2 es  3.530354697607868\n",
      "---------------------------- Solución ----------------------------\n",
      "val(P)= 3.530354697607868\n",
      "A=%s 3.1\n",
      "Solución del problema: a=0.3887550201472579, b=5.461255020147256, c=0.010000000000000014, C2=1/5.750130436965743\n",
      "El valor de K1 es  6.548387096774191\n",
      "El valor de K2 es  3.530354697607868\n",
      "---------------------------- Solución ----------------------------\n",
      "val(P)= 3.530354697607868\n",
      "A=%s 3.2\n",
      "Solución del problema: a=0.3887550201472579, b=5.461255020147256, c=0.010000000000000014, C2=1/5.750130436965743\n",
      "El valor de K1 es  6.343749999999998\n",
      "El valor de K2 es  3.530354697607868\n",
      "---------------------------- Solución ----------------------------\n",
      "val(P)= 3.530354697607868\n",
      "A=%s 3.3\n",
      "Solución del problema: a=0.3887550201472579, b=5.461255020147256, c=0.010000000000000014, C2=1/5.750130436965743\n",
      "El valor de K1 es  6.15151515151515\n",
      "El valor de K2 es  3.530354697607868\n",
      "---------------------------- Solución ----------------------------\n",
      "val(P)= 3.530354697607868\n",
      "A=%s 3.4\n",
      "Solución del problema: a=0.3887550201472579, b=5.461255020147256, c=0.010000000000000014, C2=1/5.750130436965743\n",
      "El valor de K1 es  5.970588235294116\n",
      "El valor de K2 es  3.530354697607868\n",
      "---------------------------- Solución ----------------------------\n",
      "val(P)= 3.5297807656420113\n",
      "A=%s 3.5\n",
      "Solución del problema: a=0.4691970191457173, b=6.591696985415995, c=0.01, C2=1/6.940940951222207\n",
      "El valor de K1 es  6.999999961451746\n",
      "El valor de K2 es  3.529780765642011\n"
     ]
    }
   ],
   "source": [
    "x0=[0.5, 8, 0.5, 3]\n",
    "C=1000000 # 10^7\n",
    "lista=np.linspace(1, 100, 800).tolist()\n",
    "lista_A=np.linspace(2.5, 3.5, 11).tolist()\n",
    "val_p_min=1000\n",
    "sol_p_min=[10, 10, 10, 10]\n",
    "\n",
    "for A in lista_A:\n",
    "    for j in lista:\n",
    "        b1=(1, j)\n",
    "        b=(0.01, None)\n",
    "        # Cotas de las variables\n",
    "        bnds=(b, b, b, b1)\n",
    "        # No definimos tipo de solver\n",
    "        sol=minimize(objective, x0, bounds=bnds, constraints=cons)\n",
    "        # Nos aseguramos de que, en efecto, se satisfagan las restricciones\n",
    "        # Guardamos la mínima solución\n",
    "        if sol.fun<val_p_min and constraint1(sol.x)>0 and constraint2(sol.x)>0 and constraint3(sol.x)>0 and constraint4(sol.x)>0 and constraint5(sol.x)>0 and constraint6(sol.x)>0:\n",
    "            val_p_min=sol.fun\n",
    "            sol_p_min=sol.x\n",
    "    print(\"---------------------------- Solución ----------------------------\")\n",
    "    print(\"val(P)=\", val_p_min)\n",
    "    print(\"A=%s\", A)\n",
    "    print(\"Solución del problema: a=%s, b=%s, c=%s, C2=1/%s\" %tuple(sol_p_min))\n",
    "    print(\"El valor de K1 es \", (4*sol_p_min[1]+sol_p_min[2]-4*sol_p_min[0])*(1/A))\n",
    "    print(\"El valor de K2 es \", (4*sol_p_min[1]+sol_p_min[2]-4*sol_p_min[0])*(1/sol_p_min[3]))"
   ]
  },
  {
   "cell_type": "code",
   "execution_count": 10,
   "metadata": {},
   "outputs": [
    {
     "name": "stdout",
     "output_type": "stream",
     "text": [
      "argmin(P) aproximado: [0.469 6.592 0.01  6.941]\n",
      "val(P) app-val(P): 0.000258133652038417\n",
      "C1(argmin(P)) aproximado: -118782.97711422989\n",
      "C2(argmin(P)) aproximado: -5780.5100346506715\n",
      "C3(argmin(P)) aproximado: 29973.87503210051\n",
      "C4(argmin(P)) aproximado: 1765.654675687375\n",
      "C5(argmin(P)) aproximado: 5.654\n"
     ]
    }
   ],
   "source": [
    "i=3\n",
    "print(\"argmin(P) aproximado:\", sol_p_min.round(i))\n",
    "print(\"val(P) app-val(P):\", objective(sol_p_min.round(i))-objective(sol_p_min))\n",
    "print(\"C1(argmin(P)) aproximado:\", constraint1(sol_p_min.round(i)))\n",
    "print(\"C2(argmin(P)) aproximado:\", constraint2(sol_p_min.round(i)))\n",
    "print(\"C3(argmin(P)) aproximado:\", constraint3(sol_p_min.round(i)))\n",
    "print(\"C4(argmin(P)) aproximado:\", constraint4(sol_p_min.round(i)))\n",
    "print(\"C5(argmin(P)) aproximado:\", constraint5(sol_p_min.round(i)))"
   ]
  },
  {
   "cell_type": "code",
   "execution_count": 8,
   "metadata": {},
   "outputs": [
    {
     "name": "stdout",
     "output_type": "stream",
     "text": [
      "argmin(P) aproximado: [0.3887550201472579, 5.461255020147256, 0.01, 5.750130436965743]\n",
      "El valor de K1 es  5.799999999999998\n",
      "El valor de K2 es  3.530354697607868\n",
      "val(P) app-val(P): 0.0005739319658566444\n",
      "C1(argmin(P)) aproximado: -33200.021614030135\n",
      "C2(argmin(P)) aproximado: -2351.5042832420536\n",
      "C3(argmin(P)) aproximado: 11680.667280634265\n",
      "C4(argmin(P)) aproximado: 1003.729721893098\n",
      "C5(argmin(P)) aproximado: 4.68374497985274\n",
      "C6(argmin(P)) aproximado: 4.200000000000006\n"
     ]
    }
   ],
   "source": [
    "sol=[0.3887550201472579, 5.461255020147256, 0.01, 5.750130436965743]\n",
    "print(\"argmin(P) aproximado:\", sol)\n",
    "print(\"El valor de K1 es \", (4*sol[1]+sol[2]-4*sol[0])*(1/A))\n",
    "print(\"El valor de K2 es \", (4*sol[1]+sol[2]-4*sol[0])*(1/sol[3]))\n",
    "print(\"val(P) app-val(P):\", objective(sol)-objective(sol_p_min))\n",
    "j=1\n",
    "for i in [constraint1, constraint2, constraint3, constraint4, constraint5, constraint6]:\n",
    "    print(\"C\"+str(j)+\"(argmin(P)) aproximado:\",i(sol))\n",
    "    j=j+1"
   ]
  },
  {
   "cell_type": "markdown",
   "metadata": {},
   "source": [
    "A=3.3 [0.442 6.215 0.01  6.544]\n",
    "A=3.5 [0.469 6.592 0.01  6.941] (este arroja 32.71)\n"
   ]
  }
 ],
 "metadata": {
  "kernelspec": {
   "display_name": "Python 3",
   "language": "python",
   "name": "python3"
  },
  "language_info": {
   "codemirror_mode": {
    "name": "ipython",
    "version": 3
   },
   "file_extension": ".py",
   "mimetype": "text/x-python",
   "name": "python",
   "nbconvert_exporter": "python",
   "pygments_lexer": "ipython3",
   "version": "3.7.6"
  }
 },
 "nbformat": 4,
 "nbformat_minor": 4
}
