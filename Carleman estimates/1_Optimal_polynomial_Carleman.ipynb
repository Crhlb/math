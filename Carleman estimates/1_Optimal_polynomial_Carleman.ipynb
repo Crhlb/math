{
 "cells": [
  {
   "cell_type": "code",
   "execution_count": 1,
   "metadata": {},
   "outputs": [],
   "source": [
    "import numpy as np\n",
    "import pandas as pd\n",
    "import scipy as sp\n",
    "from scipy.optimize import minimize"
   ]
  },
  {
   "cell_type": "markdown",
   "metadata": {},
   "source": [
    "## Problema de optimización\n",
    "\n",
    "A continuación se define la función _objetivo_ del problema de optimización, seguido de las _constraints_ de dicho problema."
   ]
  },
  {
   "cell_type": "code",
   "execution_count": 34,
   "metadata": {},
   "outputs": [],
   "source": [
    "def objective(x):\n",
    "    a=x[0]\n",
    "    b=x[1]\n",
    "    c=x[2]\n",
    "    return 4*b+c-4*a\n",
    "def constraint1(x):\n",
    "    a=x[0]\n",
    "    b=x[1]\n",
    "    c=x[2]\n",
    "    return 14*a*(b-2*a)**4-1.5*(b**2)*(A**2)-1.5*(b+c-a)*a*b*(A**2)-1.5*a*(b**2)*(B**2)-0.75*(b+c-a)*(A**4)-0.125*b*(A**2)*(B**2)\n",
    "def constraint2(x):\n",
    "    a=x[0]\n",
    "    b=x[1]\n",
    "    c=x[2]\n",
    "    return 6*a*(b-2*a)**2-1.5*b*(A**2)-0.75*a*(B**2)\n",
    "def constraint3(x):\n",
    "    a=x[0]\n",
    "    b=x[1]\n",
    "    c=x[2]\n",
    "    return 4*a*(b-2*a)**3-0.25*(b+c-a)*(A**2)-3*(a**2)/((b-2*a)*C)-2*(b-2*a)*(B**2)\n",
    "def constraint4(x):\n",
    "    return x[1]-2*x[0]"
   ]
  },
  {
   "cell_type": "markdown",
   "metadata": {},
   "source": [
    "A continuación, se da un punto inicial $x_0$ para el problema. Luego, se consideran las cotas que deben satisfacer las variables de entrada para la función objetivo. Por último, se definen las restricciones del problema."
   ]
  },
  {
   "cell_type": "code",
   "execution_count": 30,
   "metadata": {},
   "outputs": [],
   "source": [
    "x0=[1, 3, 1]\n",
    "\n",
    "#cotas\n",
    "b=(0.05, None)\n",
    "bnds=(b, b, b)\n",
    "\n",
    "#restricciones\n",
    "con1={'type':'ineq', 'fun': constraint1}\n",
    "con2={'type':'ineq', 'fun': constraint2}\n",
    "con3={'type':'ineq', 'fun': constraint3}\n",
    "con4={'type':'ineq', 'fun': constraint4}\n",
    "cons=[con1, con2, con3, con4]"
   ]
  },
  {
   "cell_type": "markdown",
   "metadata": {},
   "source": [
    "### Resolución\n",
    "\n",
    "Dado que las constraints están parametrizadas a través de $C_1, C_2, C_3>0$, se fija una constante $C_3$ suficientemente grande y se itera sobre los parámetros restantes solviendo el problema de optimización para cada uno de estos parámetros.\n",
    "\n",
    "*_Observación_*: por comodidad, en el código se consideró $C_1=A^{-1}, C_2=B^{-1}$ y $C_3=C$."
   ]
  },
  {
   "cell_type": "code",
   "execution_count": 38,
   "metadata": {},
   "outputs": [
    {
     "name": "stdout",
     "output_type": "stream",
     "text": [
      "val(P)= 6.489425657841947\n",
      "Solución del problema: a=0.4005813444627685, b=2.0104377589232536, c=0.050000000000006664\n",
      "Las constantes del problema son: C1=1/1, C2=1/1, C3=C\n",
      "val(P)= 0.2517117013073515\n",
      "Solución del problema: a=0.05, b=0.10042792532683788, c=0.05\n",
      "Las constantes del problema son: C1=1/1, C2=1/4, C3=C\n",
      "val(P)= 0.25158041827529465\n",
      "Solución del problema: a=0.05, b=0.10039510456882367, c=0.05\n",
      "Las constantes del problema son: C1=1/1, C2=1/21, C3=C\n",
      "val(P)= 0.25096078332994043\n",
      "Solución del problema: a=0.050000000000001835, b=0.10024019583248694, c=0.05\n",
      "Las constantes del problema son: C1=1/2, C2=1/10, C3=C\n",
      "val(P)= 0.2509423015537253\n",
      "Solución del problema: a=0.05, b=0.10023557538843134, c=0.05\n",
      "Las constantes del problema son: C1=1/2, C2=1/14, C3=C\n",
      "val(P)= 0.2504770553887807\n",
      "Solución del problema: a=0.05000000000000007, b=0.10011926384719524, c=0.05\n",
      "Las constantes del problema son: C1=1/3, C2=1/3, C3=C\n",
      "val(P)= 0.2500237123105131\n",
      "Solución del problema: a=0.05, b=0.10000592807762829, c=0.05\n",
      "Las constantes del problema son: C1=1/9, C2=1/19, C3=C\n"
     ]
    }
   ],
   "source": [
    "C=100000\n",
    "lista=range(1, 30)\n",
    "val_opt=100\n",
    "sol_opt=[0, 0, 0]\n",
    "C1=0\n",
    "C2=0\n",
    "i=0\n",
    "for A in lista:\n",
    "    for B in lista:\n",
    "        sol=minimize(objective, x0, method='SLSQP', bounds=bnds, constraints=cons)\n",
    "        if sol.fun<val_opt and sol.fun>0 and sol.x[1]-2*sol.x[0]>0:\n",
    "            val_opt=sol.fun\n",
    "            sol_opt=sol.x\n",
    "            C1=A\n",
    "            C2=B\n",
    "            print(\"val(P)=\", val_opt)\n",
    "            print(\"Solución del problema: a=%s, b=%s, c=%s\" %tuple(sol.x))\n",
    "            print(\"Las constantes del problema son: C1=1/%s, C2=1/%s, C3=C\" %(C1, C2))"
   ]
  },
  {
   "cell_type": "code",
   "execution_count": 39,
   "metadata": {},
   "outputs": [
    {
     "name": "stdout",
     "output_type": "stream",
     "text": [
      "El valor del problema de minimización es: 0.2500237123105131\n",
      "Solución del problema: a=0.05, b=0.10049964845584065, c=0.05\n",
      "Las constantes del problema son: C1=1/9, C2=1/19, C3=C\n"
     ]
    }
   ],
   "source": [
    "print(\"El valor del problema de minimización es:\", val_opt)\n",
    "print(\"Solución del problema: a=%s, b=%s, c=%s\" %tuple(sol.x))\n",
    "print(\"Las constantes del problema son: C1=1/%s, C2=1/%s, C3=C\" %(C1, C2))"
   ]
  },
  {
   "cell_type": "markdown",
   "metadata": {},
   "source": [
    "En base a los números obtenidos se considerará el polinomio con coeficientes $a=c=0.05=1/20$ y $b=0.11=11/100$ y $C_1=1/9, C_2=1/19$ y $C_3=10^5$"
   ]
  },
  {
   "cell_type": "code",
   "execution_count": null,
   "metadata": {},
   "outputs": [],
   "source": []
  }
 ],
 "metadata": {
  "kernelspec": {
   "display_name": "Python 3",
   "language": "python",
   "name": "python3"
  },
  "language_info": {
   "codemirror_mode": {
    "name": "ipython",
    "version": 3
   },
   "file_extension": ".py",
   "mimetype": "text/x-python",
   "name": "python",
   "nbconvert_exporter": "python",
   "pygments_lexer": "ipython3",
   "version": "3.7.6"
  }
 },
 "nbformat": 4,
 "nbformat_minor": 4
}
