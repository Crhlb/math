{
 "cells": [
  {
   "cell_type": "code",
   "execution_count": 8,
   "metadata": {},
   "outputs": [],
   "source": [
    "import numpy as np\n",
    "import pandas as pd\n",
    "import scipy as sp\n",
    "from scipy.optimize import minimize"
   ]
  },
  {
   "cell_type": "code",
   "execution_count": 43,
   "metadata": {},
   "outputs": [],
   "source": [
    "def objective(x):\n",
    "    a=x[0]\n",
    "    b=x[1]\n",
    "    c=x[2]\n",
    "    B=x[3]\n",
    "    return (3*a+3*b+c)/B\n",
    "def constraint1(x):\n",
    "    a=x[0]\n",
    "    b=x[1]\n",
    "    c=x[2]\n",
    "    B=x[3]\n",
    "    return 14*a*(b**4)-1.5*((2*a+b)**3)*(A**2)-3*(2*a+b)*a*c*(A**2)-1.5*a*((2*a+b)**2)*(B**2)-0.75*c*(A**4)-0.125*(2*a+b)*(A**2)*(B**2)\n",
    "def constraint2(x):\n",
    "    a=x[0]\n",
    "    b=x[1]\n",
    "    c=x[2]\n",
    "    B=x[3]\n",
    "    return 6*a*(b**2)-1.5*(2*a+b)*(A**2)-0.75*a*(B**2)\n",
    "def constraint3(x):\n",
    "    return x[2]-x[1]-x[0]\n",
    "def constraint4(x):\n",
    "    a=x[0]\n",
    "    b=x[1]\n",
    "    c=x[2]\n",
    "    B=x[3]\n",
    "    return 7.6-(3*a+3*b+c)/A\n"
   ]
  },
  {
   "cell_type": "code",
   "execution_count": 39,
   "metadata": {},
   "outputs": [],
   "source": [
    "x0=[1, 8, 0.5, 3]\n",
    "\n",
    "#restricciones\n",
    "con1={'type':'ineq', 'fun': constraint1}\n",
    "con2={'type':'ineq', 'fun': constraint2}\n",
    "con3={'type':'ineq', 'fun': constraint3}\n",
    "con4={'type':'ineq', 'fun': constraint4}\n",
    "cons=[con1, con2, con3, con4]"
   ]
  },
  {
   "cell_type": "code",
   "execution_count": 44,
   "metadata": {},
   "outputs": [
    {
     "name": "stdout",
     "output_type": "stream",
     "text": [
      "[2.5, 2.6, 2.7, 2.8, 2.9, 3.0, 3.1, 3.2, 3.3, 3.4, 3.5]\n"
     ]
    }
   ],
   "source": [
    "list_A=np.linspace(2.5, 3.5, 11).tolist()\n",
    "print(list_A)"
   ]
  },
  {
   "cell_type": "code",
   "execution_count": 45,
   "metadata": {},
   "outputs": [
    {
     "name": "stdout",
     "output_type": "stream",
     "text": [
      "---------------------------- Solución ----------------------------\n",
      "val(P)= 6.491736162906837\n",
      "C1=1/%s 2.5\n",
      "Solución del problema: a=0.5689398171088159, b=3.8060601828922302, c=4.37500000000215, C2=1/2.6957349406771374\n",
      "El valor de K1 es  6.929392585254324\n",
      "El valor de K2 es  6.426255490380056\n",
      "---------------------------- Solución ----------------------------\n",
      "val(P)= 6.491736162891559\n",
      "C1=1/%s 2.6\n",
      "Solución del problema: a=0.591697409793407, b=3.9583025902077766, c=4.550000000001519, C2=1/2.8035643383107542\n",
      "El valor de K1 es  6.929392585253459\n",
      "El valor de K2 es  6.426255490364284\n",
      "---------------------------- Solución ----------------------------\n",
      "val(P)= 6.491735951979238\n",
      "C1=1/%s 2.7\n",
      "Solución del problema: a=0.61445501817219, b=4.110545018868182, c=4.725000046587206, C2=1/2.911393854820293\n",
      "El valor de K1 es  6.929392610878211\n",
      "El valor de K2 es  6.426255251722378\n",
      "---------------------------- Solución ----------------------------\n",
      "val(P)= 6.491735951979238\n",
      "C1=1/%s 2.8\n",
      "Solución del problema: a=0.61445501817219, b=4.110545018868182, c=4.725000046587206, C2=1/2.911393854820293\n",
      "El valor de K1 es  6.681914303346847\n",
      "El valor de K2 es  6.426255251722378\n",
      "---------------------------- Solución ----------------------------\n",
      "val(P)= 6.491735951979238\n",
      "C1=1/%s 2.9\n",
      "Solución del problema: a=0.61445501817219, b=4.110545018868182, c=4.725000046587206, C2=1/2.911393854820293\n",
      "El valor de K1 es  6.451503465300404\n",
      "El valor de K2 es  6.426255251722378\n",
      "---------------------------- Solución ----------------------------\n",
      "val(P)= 6.491735951979238\n",
      "C1=1/%s 3.0\n",
      "Solución del problema: a=0.61445501817219, b=4.110545018868182, c=4.725000046587206, C2=1/2.911393854820293\n",
      "El valor de K1 es  6.23645334979039\n",
      "El valor de K2 es  6.426255251722378\n",
      "---------------------------- Solución ----------------------------\n",
      "val(P)= 6.491735951979238\n",
      "C1=1/%s 3.1\n",
      "Solución del problema: a=0.61445501817219, b=4.110545018868182, c=4.725000046587206, C2=1/2.911393854820293\n",
      "El valor de K1 es  6.035277435281023\n",
      "El valor de K2 es  6.426255251722378\n",
      "---------------------------- Solución ----------------------------\n",
      "val(P)= 6.491735951979238\n",
      "C1=1/%s 3.2\n",
      "Solución del problema: a=0.61445501817219, b=4.110545018868182, c=4.725000046587206, C2=1/2.911393854820293\n",
      "El valor de K1 es  5.846675015428491\n",
      "El valor de K2 es  6.426255251722378\n",
      "---------------------------- Solución ----------------------------\n",
      "val(P)= 6.491735951979238\n",
      "C1=1/%s 3.3\n",
      "Solución del problema: a=0.61445501817219, b=4.110545018868182, c=4.725000046587206, C2=1/2.911393854820293\n",
      "El valor de K1 es  5.669503045263991\n",
      "El valor de K2 es  6.426255251722378\n",
      "---------------------------- Solución ----------------------------\n",
      "val(P)= 6.491735951979238\n",
      "C1=1/%s 3.4\n",
      "Solución del problema: a=0.61445501817219, b=4.110545018868182, c=4.725000046587206, C2=1/2.911393854820293\n",
      "El valor de K1 es  5.502752955697403\n",
      "El valor de K2 es  6.426255251722378\n",
      "---------------------------- Solución ----------------------------\n",
      "val(P)= 6.491735951979238\n",
      "C1=1/%s 3.5\n",
      "Solución del problema: a=0.61445501817219, b=4.110545018868182, c=4.725000046587206, C2=1/2.911393854820293\n",
      "El valor de K1 es  5.345531442677477\n",
      "El valor de K2 es  6.426255251722378\n"
     ]
    }
   ],
   "source": [
    "C=10000000 # 10^7\n",
    "lista=np.linspace(1, 80, 400).tolist()\n",
    "val_p_min=100\n",
    "sol_p_min=[10, 10, 10, 10]\n",
    "\n",
    "for A in list_A:\n",
    "    for j in lista:\n",
    "        b1=(1, j)\n",
    "        b=(0.01, None)\n",
    "        # Cotas de las variables\n",
    "        bnds=(b, b, b, b1)\n",
    "        # No definimos tipo de solver\n",
    "        sol=minimize(objective, x0, bounds=bnds, constraints=cons)\n",
    "        # Nos aseguramos de que, en efecto, se satisfagan las restricciones\n",
    "        # Guardamos la mínima solución\n",
    "        if sol.fun<val_p_min and constraint1(sol.x)>0 and constraint2(sol.x)>0 and constraint3(sol.x)>0 and constraint4(sol.x)>0:\n",
    "            val_p_min=sol.fun\n",
    "            sol_p_min=sol.x\n",
    "    print(\"---------------------------- Solución ----------------------------\")\n",
    "    print(\"val(P)=\", val_p_min)\n",
    "    print(\"C1=1/%s\", A)\n",
    "    print(\"Solución del problema: a=%s, b=%s, c=%s, C2=1/%s\" %tuple(sol_p_min))\n",
    "    print(\"El valor de K1 es \", (4*sol_p_min[1]+sol_p_min[2]-4*sol_p_min[0])*(1/A))\n",
    "    print(\"El valor de K2 es \", (4*sol_p_min[1]+sol_p_min[2]-4*sol_p_min[0])*(1/sol_p_min[3]))"
   ]
  },
  {
   "cell_type": "code",
   "execution_count": 35,
   "metadata": {},
   "outputs": [
    {
     "name": "stdout",
     "output_type": "stream",
     "text": [
      "argmin(P) aproximado: [0.47682031 4.27432031 0.01       4.06221363]\n",
      "C1(argmin(P)) aproximado: 5.341007636161521e-10\n",
      "C2(argmin(P)) aproximado: 1.1834089264084469e-11\n",
      "C3(argmin(P)) aproximado: 33.06697192217098\n",
      "C4(argmin(P)) aproximado: 3.3206796930235245\n",
      "C5(argmin(P)) aproximado: 1.4210854715202004e-14\n"
     ]
    }
   ],
   "source": [
    "print(\"argmin(P) aproximado:\", sol_p_min)\n",
    "print(\"C1(argmin(P)) aproximado:\", constraint1(sol_p_min))\n",
    "print(\"C2(argmin(P)) aproximado:\", constraint2(sol_p_min))\n",
    "print(\"C3(argmin(P)) aproximado:\", constraint3(sol_p_min))\n",
    "print(\"C4(argmin(P)) aproximado:\", constraint4(sol_p_min))\n",
    "print(\"C5(argmin(P)) aproximado:\", constraint5(sol_p_min))"
   ]
  },
  {
   "cell_type": "code",
   "execution_count": 34,
   "metadata": {},
   "outputs": [
    {
     "name": "stdout",
     "output_type": "stream",
     "text": [
      "argmin(P) aproximado: [0.4768, 4.2744, 0.01, 4.0622]\n",
      "El valor de K1 es  7.600200000000001\n",
      "El valor de K2 es  3.741913248978387\n",
      "val(P) app-val(P): 0.0001110279447189555\n",
      "C1(argmin(P)) aproximado: 0.057715418761567605\n",
      "C2(argmin(P)) aproximado: 0.0007550633280040131\n",
      "C3(argmin(P)) aproximado: 33.07955707136637\n",
      "C4(argmin(P)) aproximado: 3.3208\n",
      "C5(argmin(P)) aproximado: -0.0004000000000026205\n"
     ]
    }
   ],
   "source": [
    "sol=[0.4768, 4.2744, 0.01,  4.0622]\n",
    "print(\"argmin(P) aproximado:\", sol)\n",
    "print(\"El valor de K1 es \", (4*sol[1]+sol[2]-4*sol[0])*(1/A))\n",
    "print(\"El valor de K2 es \", (4*sol[1]+sol[2]-4*sol[0])*(1/sol[3]))\n",
    "print(\"val(P) app-val(P):\", objective(sol)-objective(sol_p_min))\n",
    "print(\"C1(argmin(P)) aproximado:\", constraint1(sol))\n",
    "print(\"C2(argmin(P)) aproximado:\", constraint2(sol))\n",
    "print(\"C3(argmin(P)) aproximado:\", constraint3(sol))\n",
    "print(\"C4(argmin(P)) aproximado:\", constraint4(sol))\n",
    "print(\"C5(argmin(P)) aproximado:\", constraint5(sol))"
   ]
  },
  {
   "cell_type": "code",
   "execution_count": null,
   "metadata": {},
   "outputs": [],
   "source": [
    "i=4\n",
    "print(\"argmin(P) aproximado:\", sol_p_min.round(i))\n",
    "print(\"val(P) app-val(P):\", objective(sol_p_min.round(i))-objective(sol_p_min))\n",
    "print(\"C1(argmin(P)) aproximado:\", constraint1(sol_p_min.round(i)))\n",
    "print(\"C2(argmin(P)) aproximado:\", constraint2(sol_p_min.round(i)))\n",
    "print(\"C3(argmin(P)) aproximado:\", constraint3(sol_p_min.round(i)))\n",
    "print(\"C4(argmin(P)) aproximado:\", constraint4(sol_p_min.round(i)))\n",
    "print(\"C5(argmin(P)) aproximado:\", constraint5(sol_p_min.round(i)))"
   ]
  }
 ],
 "metadata": {
  "kernelspec": {
   "display_name": "Python 3",
   "language": "python",
   "name": "python3"
  },
  "language_info": {
   "codemirror_mode": {
    "name": "ipython",
    "version": 3
   },
   "file_extension": ".py",
   "mimetype": "text/x-python",
   "name": "python",
   "nbconvert_exporter": "python",
   "pygments_lexer": "ipython3",
   "version": "3.7.6"
  }
 },
 "nbformat": 4,
 "nbformat_minor": 4
}
