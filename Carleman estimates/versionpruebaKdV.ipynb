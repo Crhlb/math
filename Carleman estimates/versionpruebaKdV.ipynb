{
 "cells": [
  {
   "cell_type": "code",
   "execution_count": 2,
   "metadata": {},
   "outputs": [],
   "source": [
    "import numpy as np\n",
    "import pandas as pd\n",
    "import scipy as sp\n",
    "from scipy.optimize import minimize"
   ]
  },
  {
   "cell_type": "code",
   "execution_count": 3,
   "metadata": {},
   "outputs": [],
   "source": [
    "def objective(x):\n",
    "    a=x[0]\n",
    "    b=x[1]\n",
    "    c=x[2]\n",
    "    B=x[3]\n",
    "    return (4*b+c-4*a)/B\n",
    "def constraint1(x):\n",
    "    a=x[0]\n",
    "    b=x[1]\n",
    "    c=x[2]\n",
    "    B=x[3]\n",
    "    return 14*a*(b-2*a)**4-1.5*(b**3)*(A**2)-1.5*(b+c-a)*a*b*(A**2)-1.5*a*(b**2)*(B**2)-0.75*(b+c-a)*(A**4)-0.125*b*(A**2)*(B**2)\n",
    "def constraint2(x):\n",
    "    a=x[0]\n",
    "    b=x[1]\n",
    "    c=x[2]\n",
    "    B=x[3]\n",
    "    return 6*a*(b-2*a)**2-1.5*b*(A**2)-0.75*a*(B**2)\n",
    "def constraint3(x):\n",
    "    a=x[0]\n",
    "    b=x[1]\n",
    "    c=x[2]\n",
    "    B=x[3]\n",
    "    return 4*(b-2*a)**3-0.25*(b+c-a)*(A**2)-3*(a**2)/((b-2*a)*C)-2*(b-2*a)*(B**2)\n",
    "def constraint4(x):\n",
    "    return x[1]-2*x[0]\n",
    "def constraint5(x):\n",
    "    a=x[0]\n",
    "    b=x[1]\n",
    "    c=x[2]\n",
    "    B=x[3]\n",
    "    return 7.6*A-(4*b+c-4*a)"
   ]
  },
  {
   "cell_type": "code",
   "execution_count": 4,
   "metadata": {},
   "outputs": [],
   "source": [
    "x0=[1, 8, 0.5, 3]\n",
    "\n",
    "#restricciones\n",
    "con1={'type':'ineq', 'fun': constraint1}\n",
    "con2={'type':'ineq', 'fun': constraint2}\n",
    "con3={'type':'ineq', 'fun': constraint3}\n",
    "con4={'type':'ineq', 'fun': constraint4}\n",
    "con5={'type':'ineq', 'fun': constraint5}\n",
    "cons=[con1, con2, con3, con4, con5]"
   ]
  },
  {
   "cell_type": "code",
   "execution_count": 32,
   "metadata": {},
   "outputs": [
    {
     "name": "stdout",
     "output_type": "stream",
     "text": [
      "---------------------------- Solución ----------------------------\n",
      "val(P)= 3.8083133725600313\n",
      "Solución del problema: a=0.8119962251858092, b=7.228270017282589, c=0.010000000000003237, C2=1/6.741854636591463\n",
      "El valor de K1 es  7.551498578937388\n",
      "El valor de K2 es  3.8083133725600318\n"
     ]
    }
   ],
   "source": [
    "C=10000000 # 10^7\n",
    "lista=np.linspace(1, 80, 400).tolist()\n",
    "val_p_min=100\n",
    "sol_p_min=[10, 10, 10, 10]\n",
    "A=3.4\n",
    "\n",
    "for j in lista:\n",
    "    b1=(1, j)\n",
    "    b=(0.01, None)\n",
    "    # Cotas de las variables\n",
    "    bnds=(b, b, b, b1)\n",
    "    # No definimos tipo de solver\n",
    "    sol=minimize(objective, x0, bounds=bnds, constraints=cons)\n",
    "    # Nos aseguramos de que, en efecto, se satisfagan las restricciones\n",
    "    # Guardamos la mínima solución\n",
    "    if sol.fun<val_p_min and constraint1(sol.x)>0 and constraint2(sol.x)>0 and constraint3(sol.x)>0 and constraint4(sol.x)>0 and constraint5(sol.x)>0:\n",
    "        val_p_min=sol.fun\n",
    "        sol_p_min=sol.x\n",
    "        \n",
    "print(\"---------------------------- Solución ----------------------------\")\n",
    "print(\"val(P)=\", val_p_min)\n",
    "print(\"Solución del problema: a=%s, b=%s, c=%s, C2=1/%s\" %tuple(sol_p_min))\n",
    "print(\"El valor de K1 es \", (4*sol_p_min[1]+sol_p_min[2]-4*sol_p_min[0])*(1/A))\n",
    "print(\"El valor de K2 es \", (4*sol_p_min[1]+sol_p_min[2]-4*sol_p_min[0])*(1/sol_p_min[3]))"
   ]
  },
  {
   "cell_type": "code",
   "execution_count": 42,
   "metadata": {},
   "outputs": [
    {
     "name": "stdout",
     "output_type": "stream",
     "text": [
      "argmin(P) aproximado: [0.812  7.2283 0.01   6.7419]\n",
      "val(P) app-val(P): -1.007526994989405e-05\n",
      "C1(argmin(P)) aproximado: 0.05442019553549926\n",
      "C2(argmin(P)) aproximado: 0.0009152967900547537\n",
      "C3(argmin(P)) aproximado: 176.04449932448716\n",
      "C4(argmin(P)) aproximado: 5.6043\n",
      "C5(argmin(P)) aproximado: 0.1647999999999996\n"
     ]
    }
   ],
   "source": [
    "i=4\n",
    "print(\"argmin(P) aproximado:\", sol_p_min.round(i))\n",
    "print(\"val(P) app-val(P):\", objective(sol_p_min.round(i))-objective(sol_p_min))\n",
    "print(\"C1(argmin(P)) aproximado:\", constraint1(sol_p_min.round(i)))\n",
    "print(\"C2(argmin(P)) aproximado:\", constraint2(sol_p_min.round(i)))\n",
    "print(\"C3(argmin(P)) aproximado:\", constraint3(sol_p_min.round(i)))\n",
    "print(\"C4(argmin(P)) aproximado:\", constraint4(sol_p_min.round(i)))\n",
    "print(\"C5(argmin(P)) aproximado:\", constraint5(sol_p_min.round(i)))"
   ]
  },
  {
   "cell_type": "code",
   "execution_count": 31,
   "metadata": {},
   "outputs": [
    {
     "name": "stdout",
     "output_type": "stream",
     "text": [
      "argmin(P) aproximado: [0.79, 6.971, 0.01, 6.345]\n",
      "El valor de K1 es  7.495151515151516\n",
      "El valor de K2 es  3.8981875492513796\n",
      "val(P) app-val(P): 0.0005729958281421865\n",
      "C1(argmin(P)) aproximado: 0.35865110287375046\n",
      "C2(argmin(P)) aproximado: 0.03329862750003443\n",
      "C3(argmin(P)) aproximado: 175.78416079927007\n",
      "C4(argmin(P)) aproximado: 5.391\n",
      "C5(argmin(P)) aproximado: 0.34599999999999653\n"
     ]
    }
   ],
   "source": [
    "sol=[0.79, 6.971, 0.01, 6.345]\n",
    "print(\"argmin(P) aproximado:\", sol)\n",
    "print(\"El valor de K1 es \", (4*sol[1]+sol[2]-4*sol[0])*(1/A))\n",
    "print(\"El valor de K2 es \", (4*sol[1]+sol[2]-4*sol[0])*(1/sol[3]))\n",
    "print(\"val(P) app-val(P):\", objective(sol)-objective(sol_p_min))\n",
    "print(\"C1(argmin(P)) aproximado:\", constraint1(sol))\n",
    "print(\"C2(argmin(P)) aproximado:\", constraint2(sol))\n",
    "print(\"C3(argmin(P)) aproximado:\", constraint3(sol))\n",
    "print(\"C4(argmin(P)) aproximado:\", constraint4(sol))\n",
    "print(\"C5(argmin(P)) aproximado:\", constraint5(sol))"
   ]
  },
  {
   "cell_type": "markdown",
   "metadata": {},
   "source": [
    "A=3  [0.718 6.34  0.01  5.784]\n",
    "A=3.3 [0.79  6.975 0.01  6.363] a=0.7896809238100594, b=6.970614538639392, c=0.01000000000000126, C2=1/6.345864661654121"
   ]
  },
  {
   "cell_type": "code",
   "execution_count": 19,
   "metadata": {},
   "outputs": [
    {
     "name": "stdout",
     "output_type": "stream",
     "text": [
      "-1468.0212999999997\n"
     ]
    }
   ],
   "source": [
    "print(constraint1([1, 4, 1, 1, 1]))"
   ]
  },
  {
   "cell_type": "code",
   "execution_count": null,
   "metadata": {},
   "outputs": [],
   "source": []
  }
 ],
 "metadata": {
  "kernelspec": {
   "display_name": "Python 3",
   "language": "python",
   "name": "python3"
  },
  "language_info": {
   "codemirror_mode": {
    "name": "ipython",
    "version": 3
   },
   "file_extension": ".py",
   "mimetype": "text/x-python",
   "name": "python",
   "nbconvert_exporter": "python",
   "pygments_lexer": "ipython3",
   "version": "3.7.6"
  }
 },
 "nbformat": 4,
 "nbformat_minor": 4
}
