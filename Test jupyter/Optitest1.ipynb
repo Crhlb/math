{
 "cells": [
  {
   "cell_type": "code",
   "execution_count": 1,
   "metadata": {},
   "outputs": [],
   "source": [
    "import numpy as np\n",
    "import pandas as pd\n",
    "import scipy as sp\n",
    "from scipy.optimize import minimize"
   ]
  },
  {
   "cell_type": "code",
   "execution_count": 46,
   "metadata": {},
   "outputs": [],
   "source": [
    "def objective(x):\n",
    "    a=x[0]\n",
    "    b=x[1]\n",
    "    c=x[2]\n",
    "    return 2*b+c-2*a\n",
    "def constraint1(x):\n",
    "    return 14*x[0]*(x[1]-2*x[0])**4-1.5*x[1]**2*A**2-1.5*(x[1]+x[2]-x[0])*x[0]*x[1]*A**2-1.5*x[0]*x[1]**2-0.75*(x[1]+x[2]-x[0])-0.125*x[1]\n",
    "def constraint2(x):\n",
    "    return 6*x[0]*(x[1]-2*x[0])**2-1.5*x[1]-0.75*x[0]\n",
    "def constraint3(x):\n",
    "    return 4*x[0]*(x[1]-2*x[0])**3-0.25*(x[1]+x[2]-x[0])-2*(x[1]-2*x[0])\n",
    "def constraint4(x):\n",
    "    return x[1]-2*x[0]"
   ]
  },
  {
   "cell_type": "code",
   "execution_count": 34,
   "metadata": {},
   "outputs": [
    {
     "name": "stdout",
     "output_type": "stream",
     "text": [
      "5\n"
     ]
    }
   ],
   "source": [
    "x0=[1, 3, 1]\n",
    "print(objective(x_0))"
   ]
  },
  {
   "cell_type": "code",
   "execution_count": 35,
   "metadata": {},
   "outputs": [],
   "source": [
    "b=(0.1, None)\n",
    "bnds=(b, b, b)\n",
    "con1={'type':'ineq', 'fun': constraint1}\n",
    "con2={'type':'ineq', 'fun': constraint2}\n",
    "con3={'type':'ineq', 'fun': constraint3}\n",
    "con4={'type':'ineq', 'fun': constraint4}\n",
    "cons=[con1, con2, con3, con4]"
   ]
  },
  {
   "cell_type": "code",
   "execution_count": 47,
   "metadata": {},
   "outputs": [
    {
     "name": "stdout",
     "output_type": "stream",
     "text": [
      "     fun: 3.325414263553057\n",
      "     jac: array([-2.,  2.,  1.])\n",
      " message: 'Optimization terminated successfully.'\n",
      "    nfev: 30\n",
      "     nit: 6\n",
      "    njev: 6\n",
      "  status: 0\n",
      " success: True\n",
      "       x: array([0.4000125 , 2.01271963, 0.1       ])\n",
      "     fun: 3.5375295040474466\n",
      "     jac: array([-2.,  2.,  1.])\n",
      " message: 'Optimization terminated successfully.'\n",
      "    nfev: 37\n",
      "     nit: 7\n",
      "    njev: 7\n",
      "  status: 0\n",
      " success: True\n",
      "       x: array([0.2795002 , 1.99826495, 0.1       ])\n",
      "     fun: 3.89682429120168\n",
      "     jac: array([-2.,  2.,  1.])\n",
      " message: 'Optimization terminated successfully.'\n",
      "    nfev: 87\n",
      "     nit: 16\n",
      "    njev: 16\n",
      "  status: 0\n",
      " success: True\n",
      "       x: array([0.26341989, 2.16183204, 0.1       ])\n",
      "     fun: 4.213298008728197\n",
      "     jac: array([-2.,  2.,  1.])\n",
      " message: 'Optimization terminated successfully.'\n",
      "    nfev: 108\n",
      "     nit: 19\n",
      "    njev: 17\n",
      "  status: 0\n",
      " success: True\n",
      "       x: array([0.28942607, 2.34607507, 0.1       ])\n"
     ]
    }
   ],
   "source": [
    "lista=[1, 2, 3, 4]\n",
    "for A in lista:\n",
    "    sol=minimize(objective, x0, method='SLSQP', bounds=bnds, constraints=cons)\n",
    "    print(sol)"
   ]
  },
  {
   "cell_type": "code",
   "execution_count": 41,
   "metadata": {},
   "outputs": [
    {
     "name": "stdout",
     "output_type": "stream",
     "text": [
      "     fun: 0.2999552552155578\n",
      "     jac: array([-2.,  2.,  1.])\n",
      " message: 'Positive directional derivative for linesearch'\n",
      "    nfev: 65\n",
      "     nit: 15\n",
      "    njev: 11\n",
      "  status: 8\n",
      " success: False\n",
      "       x: array([0.1       , 0.19997763, 0.1       ])\n"
     ]
    }
   ],
   "source": [
    "print(sol)"
   ]
  },
  {
   "cell_type": "code",
   "execution_count": 19,
   "metadata": {},
   "outputs": [
    {
     "name": "stdout",
     "output_type": "stream",
     "text": [
      "[0.40115871 2.00814485 0.        ]\n"
     ]
    }
   ],
   "source": [
    "print(sol.x)"
   ]
  },
  {
   "cell_type": "code",
   "execution_count": null,
   "metadata": {},
   "outputs": [],
   "source": []
  }
 ],
 "metadata": {
  "kernelspec": {
   "display_name": "Python 3",
   "language": "python",
   "name": "python3"
  },
  "language_info": {
   "codemirror_mode": {
    "name": "ipython",
    "version": 3
   },
   "file_extension": ".py",
   "mimetype": "text/x-python",
   "name": "python",
   "nbconvert_exporter": "python",
   "pygments_lexer": "ipython3",
   "version": "3.7.6"
  }
 },
 "nbformat": 4,
 "nbformat_minor": 4
}
